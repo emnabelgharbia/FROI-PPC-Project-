{
 "cells": [
  {
   "cell_type": "markdown",
   "id": "9d2791d7-f53b-467d-a208-4ad623d107a7",
   "metadata": {},
   "source": [
    "<div style=\"font-size:24px;\"><b>Fonctions & Réactions Organiques I - Practical Programming in Chemistry</b></div>\n"
   ]
  },
  {
   "cell_type": "markdown",
   "id": "66c6976d-a42a-405f-a78b-4d8cf48b1329",
   "metadata": {},
   "source": [
    "<div style=\"font-size:11pt;\"> \n",
    "This project is a digital assistant designed to help students with \"Fonctions et Réactions Organiques I\" exams. The core function of this code is to input starting materials and conditions, and the tool uses a pre-programmed database to predict and output the resultant chemical compounds</div>\n"
   ]
  },
  {
   "cell_type": "markdown",
   "id": "186e21b8-d09e-4cc2-a633-b27fc40dc16d",
   "metadata": {},
   "source": [
    "<span style=\"font-size:14pt; text-decoration:underline;\"> Part I: Database </span>\n",
    "\n"
   ]
  },
  {
   "cell_type": "markdown",
   "id": "5b630094-0fb7-4a4f-a098-199d7abd69ef",
   "metadata": {},
   "source": [
    "<div style=\"font-size:11pt;\"> The data section provides an overview of the available chemical reactions, detailing the recognized chemical patterns and the specific conditions under which these reactions occur. This database enables the tool to accurately match user inputs with the appropriate reactions. </div>"
   ]
  },
  {
   "cell_type": "code",
   "execution_count": null,
   "id": "71582978-b04a-4f60-9fc6-3c0375e74755",
   "metadata": {},
   "outputs": [],
   "source": [
    "# from Data import "
   ]
  },
  {
   "cell_type": "code",
   "execution_count": null,
   "id": "e2f3288f-6d46-4de4-ab6c-08776eb4adaf",
   "metadata": {},
   "outputs": [],
   "source": []
  },
  {
   "cell_type": "code",
   "execution_count": null,
   "id": "0ec2db0f-193c-464c-b1a1-5aa0d8a0ac8a",
   "metadata": {},
   "outputs": [],
   "source": []
  },
  {
   "cell_type": "code",
   "execution_count": null,
   "id": "fc9f01c0-6172-4f6b-b0ef-e76e6fa1e5dc",
   "metadata": {},
   "outputs": [],
   "source": []
  },
  {
   "cell_type": "code",
   "execution_count": null,
   "id": "e204ef0f-d065-4850-a4e8-738ecea1662a",
   "metadata": {},
   "outputs": [],
   "source": []
  },
  {
   "cell_type": "markdown",
   "id": "3220f30b-75c8-4149-a59e-50dae99dd296",
   "metadata": {},
   "source": [
    "<span style=\"font-size:14pt; text-decoration:underline;\"> Part II: Reaction Functions </span>"
   ]
  },
  {
   "cell_type": "code",
   "execution_count": null,
   "id": "6a6d29ee-3ab8-49d1-bba0-b5b2bae7978b",
   "metadata": {},
   "outputs": [],
   "source": []
  },
  {
   "cell_type": "code",
   "execution_count": null,
   "id": "0cc223b5-f43f-4448-b9e6-c520d846ab8a",
   "metadata": {},
   "outputs": [],
   "source": []
  },
  {
   "cell_type": "code",
   "execution_count": null,
   "id": "306b6a4b-fd0b-4bca-aea6-4116f0ae4e46",
   "metadata": {},
   "outputs": [],
   "source": []
  },
  {
   "cell_type": "code",
   "execution_count": null,
   "id": "e8cf7426-3d0a-470c-bea3-a7b3fc66b04e",
   "metadata": {},
   "outputs": [],
   "source": []
  },
  {
   "cell_type": "code",
   "execution_count": null,
   "id": "e40688ab-5693-453f-bdf6-bff1d821f9c8",
   "metadata": {},
   "outputs": [],
   "source": []
  },
  {
   "cell_type": "code",
   "execution_count": null,
   "id": "40f0640f-d5b0-40c2-8c5c-a68e386478b0",
   "metadata": {},
   "outputs": [],
   "source": []
  },
  {
   "cell_type": "code",
   "execution_count": null,
   "id": "d3f7bec9-8591-43fe-b1f1-ce290ad94ed8",
   "metadata": {},
   "outputs": [],
   "source": []
  },
  {
   "cell_type": "code",
   "execution_count": null,
   "id": "f37ae779-0529-4e87-909d-1f138e6601a3",
   "metadata": {},
   "outputs": [],
   "source": []
  },
  {
   "cell_type": "code",
   "execution_count": null,
   "id": "c6cea642-e70c-42dd-bb19-6a435b12b6bb",
   "metadata": {},
   "outputs": [],
   "source": []
  },
  {
   "cell_type": "code",
   "execution_count": null,
   "id": "38ce7d12-b163-43ab-8c84-3e8392f6147e",
   "metadata": {},
   "outputs": [],
   "source": []
  },
  {
   "cell_type": "code",
   "execution_count": null,
   "id": "56aa8b46-dc6d-4a00-977f-cbf1476dfb4a",
   "metadata": {},
   "outputs": [],
   "source": []
  },
  {
   "cell_type": "markdown",
   "id": "1cb4348c-c712-42b0-9042-8175ab1a7c07",
   "metadata": {},
   "source": [
    "<span style=\"font-size:14pt; text-decoration:underline;\"> Part III: Exercice Resolution </span>"
   ]
  },
  {
   "cell_type": "markdown",
   "id": "f2d44f67-a8ed-44d0-8870-c29eeb5dc202",
   "metadata": {},
   "source": []
  },
  {
   "cell_type": "code",
   "execution_count": null,
   "id": "8a216214-3bc2-40a1-b93a-5493ba16e3a7",
   "metadata": {},
   "outputs": [],
   "source": []
  }
 ],
 "metadata": {
  "kernelspec": {
   "display_name": "Python 3 (ipykernel)",
   "language": "python",
   "name": "python3"
  },
  "language_info": {
   "codemirror_mode": {
    "name": "ipython",
    "version": 3
   },
   "file_extension": ".py",
   "mimetype": "text/x-python",
   "name": "python",
   "nbconvert_exporter": "python",
   "pygments_lexer": "ipython3",
   "version": "3.10.13"
  }
 },
 "nbformat": 4,
 "nbformat_minor": 5
}
