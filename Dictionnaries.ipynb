{
 "cells": [
  {
   "cell_type": "code",
   "execution_count": 48,
   "id": "26b058f9-c8b9-46fb-a5c2-dfd3893794e8",
   "metadata": {},
   "outputs": [
    {
     "name": "stdout",
     "output_type": "stream",
     "text": [
      "Reaction:  Addition of amines on acidic conditions\n",
      "Modified Product: CCCC(C)=NC\n"
     ]
    }
   ],
   "source": [
    "from rdkit import Chem \n",
    "#from rdkit.Chem import Pandastools\n",
    "from rdkit.Chem.Draw import IPythonConsole \n",
    "import pandas as pd \n",
    "from pathlib import Path \n",
    "import os \n",
    "\n",
    "#Transacetalisation1 = { \"Name\": \"Transacetalisation to obtain a hemiacetal\"  ,\"Start\": \"CC(=O)C\" , \"Start2\": \"CC(OC)(OC)C\",\"Condition\" : \"Acid\",  \"Finish\":\"\" }\n",
    "\n",
    "#{}# \n",
    "#[ ]#\n",
    "## Carbonyl / Reversible Reactions ##\n",
    "\n",
    "nucleophilic_attack1 = { \"Name\":\"Nucleophilic attack on basic conditions \",\"Start\": \"CC(=O)C\" , \"Condition\" : \"Base and Nucleophile\",  \"Finish\":\"CC(O)C\"} \n",
    "nucleophilic_attack2 = { \"Name\": \"Nucleophilic attack on acidic conditions\", \"Start\": \"CC(=O)C\" , \"Condition\" : \"Acid and Nucleophile \",  \"Finish\":\"CC(O)C\"}\n",
    "hydration = { \"Name\":\"Hydration of Carbonyls\" , \"Start\": \"CC(=O)C\" , \"Condition\" : \"H2O and acid\",  \"Finish\":\"CC(O)(O)C\"} \n",
    "Acetalisation1 = { \"Name\":\"Acetalisation to form hemiacetal \",\"Start\": \"CC(=O)C\" , \"Condition\" : \" H+ and 1equiv MeOH\",  \"Finish\":\"CC(O)(OC)C\"} \n",
    "Acetalisation2 = { \"Name\":\"Acetalisation to form acetal\",\"Start\": \"CC(=O)C\" , \"Condition\" : \" H+ and 2equiv MeOH \",  \"Finish\":\"CC(OC)(OC)C\"} \n",
    "Cyclic_Acetal_Formation1= { \"Name\":\"Formation of cyclic acetal from diols addition with 2 carbons \",\"Start\": \"CC(=O)C\" , \"Start2\":\"OCCO\", \"Condition\" : \"Acid\",  \"Finish\":\"C1(C)(C)OCCO1\"} \n",
    "Cyclic_Acetal_Formation2= { \"Name\":\"Formation of cyclic acetal from diols addition with 3 carbons \",\"Start\": \"CC(=O)C\" , \"Start2\":\"OCCCO\", \"Condition\" : \"Acid\",  \"Finish\":\"C1(C)(C)OCCCO1\"} \n",
    "Imine_Formation1 = { \"Name\": \"Addition of amines on basic conditions\" ,\"Start\": \"CC(=O)C\" , \"Start2\":\"NC\",\"Condition\" : \"pH>6\",  \"Finish\":\"CC(=NC)C\" }\n",
    "Imine_Formation2 = { \"Name\": \" Addition of amines on acidic conditions\",\"Start\": \"CC(=O)C\" ,\"Start2\":\"NC\", \"Condition\" : \"4<pH<6\",  \"Finish\":\"CC(=NC)C\" }\n",
    "Oxine_formation = { \"Name\": \"Addition of nucleophilic nitrogen to form an oxine\" ,\"Start\": \"CC(=O)C\" , \"Start2\":\"NO\", \"Condition\" : \"\",  \"Finish\":\"CC(=NO)C\" }\n",
    "Hydrazone_formation: { \"Name\": \"Addition of nucleophilic nitrogen to form a hydrozone\" ,\"Start\": \"CC(=O)C\" , \"Start2\":\"NN\", \"Condition\" : \"\",  \"Finish\":\"CC(=NN)C\" }\n",
    "Spiro_Acetal_Formation = { \"Name\":\"Formation of Spiroacetal with 2 cycles\",\"Start\": \"OCCCCC(=O)CCCCO\" , \"Condition\" : \"Acid\",  \"Finish\":\"O1CCCC(C1)1OCCCC1\" }\n",
    "Transacetalisation = { \"Name\": \"Transacetalisation to obtain a spiro \"  ,\"Start\": \"CC(O)(O)C\" , \"Start2\":\"CC(OC)(OC)C\", \"Condition\" : \"Acid\",  \"Finish\":\"C1(C)(C)OC(C)C(C)O1\" }\n",
    "Pictet_Spengler_Reaction = { \"Name\": \"Pictet Spengler Reaction\"  ,\"Start\": \"CC(=O)C\" ,\"Start2\":\"c1ccc2c(c1)c[nH]c2CCN\", \"Condition\" : \"Base\",  \"Finish\":\"n1CC2=C(C(C)(C)1)NC3=C2C=CC=C3\" }\n",
    "wolf_kishner_huang_reduction = { \"Finish\" : \"CCC\", \"Condition\" : \"NH2NH2, KOH, 180°C\", \"Start\" : \"CC(=O)C\", \"Name\" : \"Wolf-Kishner-Huang Reduction\" }\n",
    "## STARTS / CONDITIONS / FINISH ##\n",
    "\n",
    "Start = [\"CC(=O)C\", \"OCCO\", \"OCCCO\" , \"NC\", \"NN\", \"OCCCCC(=O)CCCCO\", \"CC(O)(O)C\", \"c1ccc2c(c1)c[nH]c2CCN\", \"CC(OC)(OC)C\", ]\n",
    "Finish = [\"CC(O)C\", \"CC(O)(O)C\",\"CC(O)(OC)C\", \"CC(OC)(OC)C\",\"C1(C)(C)OCCO1\", \"C1(C)(C)OCCCO1\",\"CC(=NC)C\",\"CC(=NO)C\", \"CC(=NN)C\", \"O1CCCC(C1)1OCCCC1\", \"C1(C)(C)OC(C)C(C)O1\",\"n1CC2=C(C(C)(C)1)NC3=C2C=CC=C3\"]\n",
    "Condition = [ \"Base and Nucleophile\", \"Acid and Nucleophile \", \"H2O and acid\", \" H+ and 1equiv MeOH\", \"H+ and 2equiv MeOH\",\"Acid\", \"pH>6\", \"4<pH<6\", \"Base\" ]\n",
    "\n",
    "\n"
   ]
  },
  {
   "cell_type": "code",
   "execution_count": null,
   "id": "d237a4b5-4e71-4a67-8ec2-231b1c25e03d",
   "metadata": {},
   "outputs": [],
   "source": []
  },
  {
   "cell_type": "code",
   "execution_count": null,
   "id": "43504124-21de-441c-9a67-5ff17673a8d3",
   "metadata": {},
   "outputs": [],
   "source": []
  },
  {
   "cell_type": "code",
   "execution_count": null,
   "id": "2f7e4243-6246-4001-b5ca-778a659f8846",
   "metadata": {},
   "outputs": [],
   "source": []
  }
 ],
 "metadata": {
  "kernelspec": {
   "display_name": "Python 3 (ipykernel)",
   "language": "python",
   "name": "python3"
  },
  "language_info": {
   "codemirror_mode": {
    "name": "ipython",
    "version": 3
   },
   "file_extension": ".py",
   "mimetype": "text/x-python",
   "name": "python",
   "nbconvert_exporter": "python",
   "pygments_lexer": "ipython3",
   "version": "3.10.13"
  }
 },
 "nbformat": 4,
 "nbformat_minor": 5
}
