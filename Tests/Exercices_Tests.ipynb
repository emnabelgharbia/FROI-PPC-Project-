{
 "cells": [
  {
   "cell_type": "markdown",
   "id": "e477f4de-009a-41f3-9b79-13a1c8a1a706",
   "metadata": {},
   "source": [
    "<div style=\"font-size:24px;\"><b> Exercices Tests and Limitations </b></div>"
   ]
  },
  {
   "cell_type": "markdown",
   "id": "495aa36b-cce3-488b-b967-a5a9e8ffd867",
   "metadata": {},
   "source": [
    "<div style=\"font-size:11pt;\"> This section includes automated tests specifically developed to evaluate the performance of the main code. These tests are crucial for assessing how well the programmed exercise interface supports students as they prepare for their FROI exam.</div>"
   ]
  },
  {
   "cell_type": "markdown",
   "id": "c2dae6d5-aee9-4864-b98f-662071e558b1",
   "metadata": {},
   "source": [
    "<span style=\"font-size:14pt; text-decoration:underline;\"> The Lists Import </span>"
   ]
  },
  {
   "cell_type": "code",
   "execution_count": 53,
   "id": "5c24004a-6691-4664-ac69-8c5fbe586905",
   "metadata": {
    "scrolled": true
   },
   "outputs": [],
   "source": [
    "%run ./Dictionnaries.ipynb\n",
    "%run ./Lists.ipynb"
   ]
  },
  {
   "cell_type": "markdown",
   "id": "9d2fd7e8-0561-42ff-8acf-7d29ab0449e7",
   "metadata": {},
   "source": [
    "<span style=\"font-size:14pt; text-decoration:underline;\"> The Reactions Functions Import </span>"
   ]
  },
  {
   "cell_type": "code",
   "execution_count": 54,
   "id": "6c03e23e-6bd4-4551-a5c2-c5e943a38a69",
   "metadata": {},
   "outputs": [],
   "source": [
    "%run ./Reaction_Functions.ipynb"
   ]
  },
  {
   "cell_type": "markdown",
   "id": "78e504ec-203f-43cd-a04f-7121f741f5ca",
   "metadata": {},
   "source": [
    "<span style=\"font-size:14pt; text-decoration:underline;\"> Necessary Import</span>"
   ]
  },
  {
   "cell_type": "code",
   "execution_count": 55,
   "id": "68180fd8-96df-4d68-bb19-532c41f6682b",
   "metadata": {},
   "outputs": [],
   "source": [
    "from rdkit import Chem\n",
    "from rdkit.Chem import AllChem\n",
    "from rdkit.Chem import Draw\n",
    "from IPython.display import display\n",
    "import sys\n",
    "\n",
    "from rdkit.Chem import PandasTools\n",
    "import pandas as pd\n",
    "from pathlib import Path\n",
    "import os\n",
    "\n",
    "\n",
    "from rdkit.Chem.Draw import IPythonConsole\n",
    "IPythonConsole.ipython_useSVG=True"
   ]
  },
  {
   "cell_type": "markdown",
   "id": "125ea5bd-0ef4-4c3d-b9a8-e747fd253967",
   "metadata": {},
   "source": [
    "<span style=\"font-size:14pt; text-decoration:underline;\"> Complementary Functions </span>"
   ]
  },
  {
   "cell_type": "code",
   "execution_count": 137,
   "id": "65193761-1aff-43ff-b896-6665ab45fe71",
   "metadata": {},
   "outputs": [],
   "source": [
    "# Function to check if the entered molecule is valid\n",
    "def validate_smiles(smiles):\n",
    "    if not smiles:\n",
    "        return None\n",
    "    molecule = Chem.MolFromSmiles(smiles)\n",
    "    print(\"etape8\", type(molecule))\n",
    "    if molecule is not None:\n",
    "        print(\"etape9\", type(molecule))\n",
    "        return molecule\n",
    "    else:\n",
    "        print(\"Invalid SMILES string entered.\")\n",
    "        return None\n",
    "\n",
    "# Function to check for subgroups in start molecules\n",
    "def subgroup_in_start(mol, Start):\n",
    "    matched_subgroup = None\n",
    "    for substr_smiles in Start:\n",
    "        substructure = Chem.MolFromSmarts(substr_smiles)\n",
    "        if mol.HasSubstructMatch(substructure):\n",
    "            matched_subgroup = substr_smiles\n",
    "            matched_subgroup is not None\n",
    "            break  # Exit loop as soon as a match is found\n",
    "    return matched_subgroup\n",
    "\n",
    "def subgroup_in_finish(finish, Finish):\n",
    "    print(\"etape5\", type(finish))\n",
    "    matched_subgroup_f = None\n",
    "    for substr_smiles in Finish:\n",
    "        substructure = Chem.MolFromSmarts(substr_smiles)\n",
    "        if finish.HasSubstructMatch(substructure):\n",
    "            matched_subgroup_f = substr_smiles\n",
    "            matched_subgroup_f is not None\n",
    "            print(\"etape6\", type(finish))\n",
    "            print(f\"Match found for: {substr_smiles}\")\n",
    "            break\n",
    "        return matched_subgroup_f\n",
    "\n",
    "    print(\"No matching subgroup found.\")\n",
    "    return None\n",
    "\n",
    "\n",
    "# Function to check if condition is in the predefined list\n",
    "def check_for_cond(condition, Condition):\n",
    "    return condition in Condition\n",
    "\n",
    "def check_same_dict_in_list(start, condition, Reaction):\n",
    "        globals_dict = globals()  # Get the current global symbol table\n",
    "        matched_subgroup = subgroup_in_start(start, Start)\n",
    "        for name in Reaction:\n",
    "            d = globals_dict.get(name)\n",
    "            #print(f\"Checking dictionary '{name}': {d}\")\n",
    "            if d is not None:\n",
    "                #print(f\"Start in dictionary: {matched_subgroup in d['Start']}\")\n",
    "                #print(f\"Condition in dictionary: {condition in d['Condition']}\"\n",
    "                if matched_subgroup in d[\"Start\"] and condition in d[\"Condition\"]:\n",
    "                    #if matched_subgroup == True and condition == True:\n",
    "                        \n",
    "                        return name  # Return the name of the dictionary\n",
    "        \n",
    "        return None  # Return None if the dictionaries are not found\n",
    "    \n",
    "def check_same_dict_in_list1(start, start2, Reaction):\n",
    "    globals_dict = globals()  # Get the current global symbol table\n",
    "    matched_subgroup = subgroup_in_start(start, Start)\n",
    "    matched_subgroup2 = subgroup_in_start2(start2, Start2)\n",
    "    for name in Reaction:\n",
    "        d = globals_dict.get(name)\n",
    "        #print(f\"Checking dictionary '{name}': {d}\")\n",
    "        if d is not None:\n",
    "            if matched_subgroup in d[\"Start\"] and matched_subgroup2 in d[\"Start2\"]:  # Update this line to use the correct keys\n",
    "                return name  # Return the name of the dictionary\n",
    "    \n",
    "    return None  # Return None if the dictionaries are not found\n",
    "\n",
    "def check_same_dict_in_list3(condition, finish, Reaction):\n",
    "    print(\"etape10\", type(finish))\n",
    "    globals_dict = globals()  # Access the global scope\n",
    "    matched_subgroup = subgroup_in_finish(finish, Finish)\n",
    "    if not matched_subgroup:\n",
    "        print(\"No matching subgroup found.\")\n",
    "        return None\n",
    "    for name in Reaction:\n",
    "        d = globals_dict.get(name)\n",
    "        if d is not None:\n",
    "            if condition in d[\"Condition\"] and matched_subgroup in d[\"Finish\"]:\n",
    "                return name\n",
    "\n",
    "    return None\n",
    "    \n",
    "def check_same_dict_in_list4(condition, finish, finish2, Reaction):\n",
    "    globals_dict = globals()  # Get the current global symbol table\n",
    "    matched_subgroup = subgroup_in_finish(finish, Finish)\n",
    "    matched_subgroup2 = subgroup_in_start2(finish2, Finish)\n",
    "    print(\"inn\")\n",
    "    for name in Reaction:\n",
    "        d = globals_dict.get(name)\n",
    "        #print(f\"Checking dictionary '{name}': {d}\")\n",
    "        if d is not None:\n",
    "            if condition in d[\"Condition\"] and matched_subgroup in d[\"Finish\"] and matched_subgroup2 in d[\"Finish2\"]:  # Update this line to use the correct keys\n",
    "                return name  # Return the name of the dictionary\n",
    "    \n",
    "    return None  # Return None if the dictionaries are not found\n",
    "\n",
    "def apply_function(dictionary_name, dictionary, start_brut):\n",
    "    func = function_reaction.get(dictionary_name)\n",
    "    if func:\n",
    "        start_input_smiles = start_brut # Get the SMILES string from the dictionary\n",
    "        #print(f\"Calling function {func.__name__} with start_input_smiles: {start_input_smiles}\")\n",
    "        result = func(start_input_smiles)  # Call the function\n",
    "        return {'result': result, 'dictionary_name': dictionary_name}  # Return a dictionary with both the result and dictionary name\n",
    "    else:\n",
    "        raise ValueError(f\"No function defined for dictionary '{dictionary_name}'.\")\n",
    "\n",
    "def apply_function2(dictionary_name, dictionary, start_brut, start2_brut):\n",
    "    func = function_reaction.get(dictionary_name)\n",
    "    if func:\n",
    "        start_input_smiles = start_brut  # Get the SMILES string from the dictionary\n",
    "        start_input_smiles2 = start2_brut\n",
    "        #print(f\"Calling function {func.__name__} with start_input_smiles: {start_input_smiles}\")\n",
    "        result = func(start_input_smiles, start_input_smiles2)  # Call the function\n",
    "        return {'result': result, 'dictionary_name': dictionary_name}  # Return a dictionary with both the result and dictionary name\n",
    "    else:\n",
    "        raise ValueError(f\"No function defined for dictionary '{dictionary_name}'.\")\n",
    "\n"
   ]
  },
  {
   "cell_type": "markdown",
   "id": "19b35dc8-1d37-4131-b2b5-fb6e92435c87",
   "metadata": {},
   "source": [
    "<span style=\"font-size:14pt; text-decoration:underline;\"> Exercice Interface </span>"
   ]
  },
  {
   "cell_type": "code",
   "execution_count": 135,
   "id": "9a890a6b-065e-4051-b233-b4d46b485d9b",
   "metadata": {},
   "outputs": [],
   "source": [
    "def main():\n",
    "#for start molecule\n",
    "    start_brut = input(\"Initial molecule? Write in SMILES. Else, press Enter\")\n",
    "    start = validate_smiles(start_brut)\n",
    "    if start:\n",
    "        if subgroup_in_start(start, Start):\n",
    "            #print(\"Initial molecule is in the start list.\")\n",
    "            pass\n",
    "        else:\n",
    "            print(\"The initial molecule you entered cannot be found in our start database.\")\n",
    "#for start molecule 2\n",
    "    start2_brut = input(\"Is there a second initial molecule? If not, press Enter\")\n",
    "    start2 = validate_smiles(start2_brut)\n",
    "    if start2:\n",
    "        if subgroup_in_start2(start2, Start2):  # Pass the molecule object, not the SMILES string\n",
    "            #print(\"Second initial molecule is in the start list.\")\n",
    "            pass\n",
    "        else:\n",
    "            print(\"The second initial molecule you entered cannot be found in our start database.\")\n",
    "#for conditions\n",
    "    while True:  # This creates an infinite loop that will continue until explicitly broken out of\n",
    "        if_condition = input(\"Conditions? y/n\")\n",
    "        if if_condition.lower() == \"y\":\n",
    "            print(\"Copy paste conditions from the list below\")\n",
    "            print(Condition)\n",
    "            condition = input(\"Conditions:\")\n",
    "            if check_for_cond(condition, Condition):\n",
    "                #print(\"Condition is valid.\")\n",
    "                break  # Exit the loop since the condition is valid\n",
    "            else:\n",
    "                print(\"Condition entered is not in the list. Please try again.\")\n",
    "        elif if_condition.lower() == \"n\":\n",
    "            #print(\"No conditions applied.\")\n",
    "            condition = None\n",
    "            break  # Exit the loop since no conditions are applied\n",
    "        else:\n",
    "            print(\"Invalid input, please enter 'y' for yes or 'n' for no.\")\n",
    "\n",
    "    \n",
    "    # Handle the final molecule\n",
    "    finish_brut = input(\"Final molecule? Write in SMILES. Else, press Enter\")\n",
    "    finish = validate_smiles(finish_brut)\n",
    "    print(\"etape1\", type(finish))\n",
    "    if finish:\n",
    "        if subgroup_in_finish(finish, Finish):  # Pass the molecule object, not the SMILES string\n",
    "            print(\"etape2\", type(finish))\n",
    "            #pass\n",
    "        else:\n",
    "            print(\"The final molecule you entered cannot be found in our start database.\")\n",
    "    \n",
    "    # Handle the second final molecule\n",
    "    finish2_brut = input(\"Is there a second final molecule? If not, press Enter\")\n",
    "    finish2 = validate_smiles(finish2_brut)\n",
    "    if finish2:\n",
    "        if subgroup_in_finish(finish2, Finish):  # Pass the molecule object, not the SMILES string\n",
    "            #print(\"Final molecule is in the start list.\")\n",
    "            pass\n",
    "        else:\n",
    "            print(\"The final molecule you entered cannot be found in our start database.\")\n",
    "\n",
    "    print(\"Type of finish:\", type(finish))\n",
    "    \n",
    "    if start and condition:\n",
    "        dictionary_name = check_same_dict_in_list(start, condition, Reaction)\n",
    "        if dictionary_name: # Check if a dictionary name is found\n",
    "            result_dict = apply_function(dictionary_name, globals()[dictionary_name], start_brut)\n",
    "            result = result_dict['result']\n",
    "            dictionary_name = result_dict['dictionary_name']\n",
    "            print(\"Result:\", result)\n",
    "            print(\"Dictionary name:\", dictionary_name)\n",
    "            print(\"initial molecule:\")\n",
    "            display(Draw.MolToImage(start))\n",
    "            print(\"final molecule:\")\n",
    "            display(Draw.MolToImage(result))\n",
    "        else:\n",
    "            print(\"No matching dictionary found.\")\n",
    "    \n",
    "    \n",
    "    elif start and start2:\n",
    "            dictionary_name = check_same_dict_in_list1(start, start2, Reaction)\n",
    "            if dictionary_name: # Check if a dictionary name is found\n",
    "                result_dict = apply_function2(dictionary_name, globals()[dictionary_name],start_brut, start2_brut)\n",
    "                result = result_dict['result']\n",
    "                dictionary_name = result_dict['dictionary_name']\n",
    "                print(\"Result:\", result)\n",
    "                print(\"Dictionary name:\", dictionary_name)\n",
    "                print(\"initial molecule:\")\n",
    "                display(Draw.MolToImage(start))\n",
    "                print(\"final molecule:\")\n",
    "                display(Draw.MolToImage(result))\n",
    "            else:\n",
    "                print(\"No matching dictionary found.\")\n",
    "\n",
    "    elif condition and finish:\n",
    "        print(\"etape3\", type(finish))\n",
    "        dictionary_name = check_same_dict_in_list3(finish, condition, Reaction)\n",
    "        print(\"Dictionary name:\", dictionary_name)\n",
    "\n",
    "\n",
    "    elif condition and finish and finish2:\n",
    "        print(\"ok\")\n",
    "        dictionary_name = check_same_dict_in_list4(condition, finish, finish2, Reaction)\n",
    "        print(\"Dictionary name:\", dictionary_name)"
   ]
  },
  {
   "cell_type": "markdown",
   "id": "863d1b51-b2dd-4723-92cb-7762d1473c6f",
   "metadata": {},
   "source": [
    "<span style=\"font-size:14pt; text-decoration:underline;\"> Test 1 </span>"
   ]
  },
  {
   "cell_type": "code",
   "execution_count": 139,
   "id": "924cf69e-834e-494c-80c8-b57df04c9c87",
   "metadata": {},
   "outputs": [
    {
     "name": "stdin",
     "output_type": "stream",
     "text": [
      "Initial molecule? Write in SMILES. Else, press Enter \n",
      "Is there a second initial molecule? If not, press Enter \n",
      "Conditions? y/n y\n"
     ]
    },
    {
     "name": "stdout",
     "output_type": "stream",
     "text": [
      "Copy paste conditions from the list below\n",
      "['Base and Nucleophile', 'Acid and Nucleophile ', 'H2O and acid', ' H+ and 1equiv MeOH', 'H+ and 2equiv MeOH', 'Acid', 'pH>6', '4<pH<6', 'Base', 'OCCS(=O)(=O)[O-].[Na+]', 'S(=O)(=O)[O-].[Na+]', 'NH3, HCN', 'HCN, LiAlH4', 'H+,H2O', 'HCN', 'C2OOH, CNH3', 'Base', 'H-', 'NaBH4, -78°C', 'NaBH4, CeCl3, MeOH', 'LiAlH4, 2 équiv.', 'LiAlH4', 'H+, NaBH3CN', 'NH2NH2, KOH, 180°C', 'Zn(Hg), HCl, reflux', 'Al(OR)3', 'SmI2, THF, -10°C', 'KOH, reflux', 'CN-, EtOH, H2O', 'KCN (0,3 equiv), 18-C-6 (0,1 equiv)', 'Catalyst: CN', 'Al(iPr)3', 'KHMDS, 18-Crown-6, -78°C']\n"
     ]
    },
    {
     "name": "stdin",
     "output_type": "stream",
     "text": [
      "Conditions: H2O and acid\n",
      "Final molecule? Write in SMILES. Else, press Enter CC(O)(O)C\n"
     ]
    },
    {
     "name": "stdout",
     "output_type": "stream",
     "text": [
      "etape8 <class 'rdkit.Chem.rdchem.Mol'>\n",
      "etape9 <class 'rdkit.Chem.rdchem.Mol'>\n",
      "etape1 <class 'rdkit.Chem.rdchem.Mol'>\n",
      "etape5 <class 'rdkit.Chem.rdchem.Mol'>\n",
      "etape6 <class 'rdkit.Chem.rdchem.Mol'>\n",
      "Match found for: CC(O)C\n",
      "No matching subgroup found.\n",
      "The final molecule you entered cannot be found in our start database.\n"
     ]
    },
    {
     "name": "stdin",
     "output_type": "stream",
     "text": [
      "Is there a second final molecule? If not, press Enter \n"
     ]
    },
    {
     "name": "stdout",
     "output_type": "stream",
     "text": [
      "Type of finish: <class 'rdkit.Chem.rdchem.Mol'>\n",
      "etape3 <class 'rdkit.Chem.rdchem.Mol'>\n",
      "etape10 <class 'str'>\n",
      "etape5 <class 'str'>\n"
     ]
    },
    {
     "ename": "AttributeError",
     "evalue": "'str' object has no attribute 'HasSubstructMatch'",
     "output_type": "error",
     "traceback": [
      "\u001b[0;31m---------------------------------------------------------------------------\u001b[0m",
      "\u001b[0;31mAttributeError\u001b[0m                            Traceback (most recent call last)",
      "Cell \u001b[0;32mIn[139], line 2\u001b[0m\n\u001b[1;32m      1\u001b[0m \u001b[38;5;28;01mif\u001b[39;00m \u001b[38;5;18m__name__\u001b[39m \u001b[38;5;241m==\u001b[39m \u001b[38;5;124m\"\u001b[39m\u001b[38;5;124m__main__\u001b[39m\u001b[38;5;124m\"\u001b[39m:\n\u001b[0;32m----> 2\u001b[0m     \u001b[43mmain\u001b[49m\u001b[43m(\u001b[49m\u001b[43m)\u001b[49m\n",
      "Cell \u001b[0;32mIn[135], line 96\u001b[0m, in \u001b[0;36mmain\u001b[0;34m()\u001b[0m\n\u001b[1;32m     94\u001b[0m \u001b[38;5;28;01melif\u001b[39;00m condition \u001b[38;5;129;01mand\u001b[39;00m finish:\n\u001b[1;32m     95\u001b[0m     \u001b[38;5;28mprint\u001b[39m(\u001b[38;5;124m\"\u001b[39m\u001b[38;5;124metape3\u001b[39m\u001b[38;5;124m\"\u001b[39m, \u001b[38;5;28mtype\u001b[39m(finish))\n\u001b[0;32m---> 96\u001b[0m     dictionary_name \u001b[38;5;241m=\u001b[39m \u001b[43mcheck_same_dict_in_list3\u001b[49m\u001b[43m(\u001b[49m\u001b[43mfinish\u001b[49m\u001b[43m,\u001b[49m\u001b[43m \u001b[49m\u001b[43mcondition\u001b[49m\u001b[43m,\u001b[49m\u001b[43m \u001b[49m\u001b[43mReaction\u001b[49m\u001b[43m)\u001b[49m\n\u001b[1;32m     97\u001b[0m     \u001b[38;5;28mprint\u001b[39m(\u001b[38;5;124m\"\u001b[39m\u001b[38;5;124mDictionary name:\u001b[39m\u001b[38;5;124m\"\u001b[39m, dictionary_name)\n\u001b[1;32m    100\u001b[0m \u001b[38;5;28;01melif\u001b[39;00m condition \u001b[38;5;129;01mand\u001b[39;00m finish \u001b[38;5;129;01mand\u001b[39;00m finish2:\n",
      "Cell \u001b[0;32mIn[137], line 78\u001b[0m, in \u001b[0;36mcheck_same_dict_in_list3\u001b[0;34m(condition, finish, Reaction)\u001b[0m\n\u001b[1;32m     76\u001b[0m \u001b[38;5;28mprint\u001b[39m(\u001b[38;5;124m\"\u001b[39m\u001b[38;5;124metape10\u001b[39m\u001b[38;5;124m\"\u001b[39m, \u001b[38;5;28mtype\u001b[39m(finish))\n\u001b[1;32m     77\u001b[0m globals_dict \u001b[38;5;241m=\u001b[39m \u001b[38;5;28mglobals\u001b[39m()  \u001b[38;5;66;03m# Access the global scope\u001b[39;00m\n\u001b[0;32m---> 78\u001b[0m matched_subgroup \u001b[38;5;241m=\u001b[39m \u001b[43msubgroup_in_finish\u001b[49m\u001b[43m(\u001b[49m\u001b[43mfinish\u001b[49m\u001b[43m,\u001b[49m\u001b[43m \u001b[49m\u001b[43mFinish\u001b[49m\u001b[43m)\u001b[49m\n\u001b[1;32m     79\u001b[0m \u001b[38;5;28;01mif\u001b[39;00m \u001b[38;5;129;01mnot\u001b[39;00m matched_subgroup:\n\u001b[1;32m     80\u001b[0m     \u001b[38;5;28mprint\u001b[39m(\u001b[38;5;124m\"\u001b[39m\u001b[38;5;124mNo matching subgroup found.\u001b[39m\u001b[38;5;124m\"\u001b[39m)\n",
      "Cell \u001b[0;32mIn[137], line 30\u001b[0m, in \u001b[0;36msubgroup_in_finish\u001b[0;34m(finish, Finish)\u001b[0m\n\u001b[1;32m     28\u001b[0m \u001b[38;5;28;01mfor\u001b[39;00m substr_smiles \u001b[38;5;129;01min\u001b[39;00m Finish:\n\u001b[1;32m     29\u001b[0m     substructure \u001b[38;5;241m=\u001b[39m Chem\u001b[38;5;241m.\u001b[39mMolFromSmarts(substr_smiles)\n\u001b[0;32m---> 30\u001b[0m     \u001b[38;5;28;01mif\u001b[39;00m \u001b[43mfinish\u001b[49m\u001b[38;5;241;43m.\u001b[39;49m\u001b[43mHasSubstructMatch\u001b[49m(substructure):\n\u001b[1;32m     31\u001b[0m         matched_subgroup_f \u001b[38;5;241m=\u001b[39m substr_smiles\n\u001b[1;32m     32\u001b[0m         matched_subgroup_f \u001b[38;5;129;01mis\u001b[39;00m \u001b[38;5;129;01mnot\u001b[39;00m \u001b[38;5;28;01mNone\u001b[39;00m\n",
      "\u001b[0;31mAttributeError\u001b[0m: 'str' object has no attribute 'HasSubstructMatch'"
     ]
    }
   ],
   "source": [
    "if __name__ == \"__main__\":\n",
    "    main()"
   ]
  },
  {
   "cell_type": "markdown",
   "id": "b747f5f8-f5c0-43fc-9cc5-a27270bc802f",
   "metadata": {},
   "source": [
    "<span style=\"font-size:14pt; text-decoration:underline;\"> Test 2 </span>"
   ]
  },
  {
   "cell_type": "code",
   "execution_count": 22,
   "id": "19778629-ccba-4c88-98bb-592ba0d8b498",
   "metadata": {},
   "outputs": [],
   "source": [
    "#if __name__ == \"__main__\":\n",
    "    #main()"
   ]
  },
  {
   "cell_type": "markdown",
   "id": "238d81dc-0ac1-46d9-bcd0-0d06f7d0352c",
   "metadata": {},
   "source": [
    "<span style=\"font-size:14pt; text-decoration:underline;\"> Test 3 </span>"
   ]
  },
  {
   "cell_type": "markdown",
   "id": "429212f5-f872-44d2-8376-9fb7d34392cd",
   "metadata": {},
   "source": [
    "<div style=\"font-size:11pt;\"> The limitation of this code is that it lacks in flexibility since the conditions are strings contained in a list; even a change of space can disrupt the code. The code will ask to re-write the conditions. </div>"
   ]
  },
  {
   "cell_type": "code",
   "execution_count": 2,
   "id": "bf8db053-5dde-4490-987f-c1e3f4acff27",
   "metadata": {},
   "outputs": [
    {
     "ename": "NameError",
     "evalue": "name 'main' is not defined",
     "output_type": "error",
     "traceback": [
      "\u001b[0;31m---------------------------------------------------------------------------\u001b[0m",
      "\u001b[0;31mNameError\u001b[0m                                 Traceback (most recent call last)",
      "Cell \u001b[0;32mIn[2], line 2\u001b[0m\n\u001b[1;32m      1\u001b[0m \u001b[38;5;28;01mif\u001b[39;00m \u001b[38;5;18m__name__\u001b[39m \u001b[38;5;241m==\u001b[39m \u001b[38;5;124m\"\u001b[39m\u001b[38;5;124m__main__\u001b[39m\u001b[38;5;124m\"\u001b[39m:\n\u001b[0;32m----> 2\u001b[0m     \u001b[43mmain\u001b[49m()\n",
      "\u001b[0;31mNameError\u001b[0m: name 'main' is not defined"
     ]
    }
   ],
   "source": [
    "if __name__ == \"__main__\":\n",
    "    main()"
   ]
  },
  {
   "cell_type": "markdown",
   "id": "0605d94b-be4c-40be-9931-34beac34552d",
   "metadata": {},
   "source": [
    "<span style=\"font-size:14pt; text-decoration:underline;\"> Test 4 </span>"
   ]
  },
  {
   "cell_type": "markdown",
   "id": "989e2d0e-7e6c-4030-ad28-357d54eef217",
   "metadata": {},
   "source": [
    "<div style=\"font-size:11pt;\"> The initial molecule must be input in a valid Smiles version otherwise the code isn't unable to read the input information. </div>"
   ]
  },
  {
   "cell_type": "code",
   "execution_count": 26,
   "id": "672d9e76-9091-437b-91b4-cc0c94eb96d6",
   "metadata": {},
   "outputs": [
    {
     "name": "stdin",
     "output_type": "stream",
     "text": [
      "Initial molecule? Write in SMILES. Else, press Enter c1c1CC(=O)C1CCCCC1\n"
     ]
    },
    {
     "name": "stderr",
     "output_type": "stream",
     "text": [
      "[14:40:57] SMILES Parse Error: ring closure 1 duplicates bond between atom 0 and atom 1 for input: 'c1c1CC(=O)C1CCCCC1'\n"
     ]
    },
    {
     "name": "stdout",
     "output_type": "stream",
     "text": [
      "Invalid SMILES string entered.\n"
     ]
    },
    {
     "name": "stdin",
     "output_type": "stream",
     "text": [
      "Is there a second initial molecule? If not, press Enter \n",
      "Conditions? y/n n\n",
      "Final molecule? Write in SMILES. Else, press Enter \n",
      "Is there a second final molecule? If not, press Enter \n"
     ]
    }
   ],
   "source": [
    "if __name__ == \"__main__\":\n",
    "    main()"
   ]
  },
  {
   "cell_type": "markdown",
   "id": "9402dd21-ebe8-44a0-8bb4-ebc8f0997518",
   "metadata": {},
   "source": [
    "<span style=\"font-size:14pt; text-decoration:underline;\"> Test 5 </span>"
   ]
  },
  {
   "cell_type": "code",
   "execution_count": null,
   "id": "fde0e2f6-da95-4084-b283-5682a55c2563",
   "metadata": {},
   "outputs": [],
   "source": [
    "#if __name__ == \"__main__\":\n",
    "    #main()"
   ]
  },
  {
   "cell_type": "code",
   "execution_count": null,
   "id": "378597f0-3c34-4553-89c6-7c6579b7a9cd",
   "metadata": {},
   "outputs": [],
   "source": []
  }
 ],
 "metadata": {
  "kernelspec": {
   "display_name": "Python 3 (ipykernel)",
   "language": "python",
   "name": "python3"
  },
  "language_info": {
   "codemirror_mode": {
    "name": "ipython",
    "version": 3
   },
   "file_extension": ".py",
   "mimetype": "text/x-python",
   "name": "python",
   "nbconvert_exporter": "python",
   "pygments_lexer": "ipython3",
   "version": "3.10.13"
  }
 },
 "nbformat": 4,
 "nbformat_minor": 5
}
