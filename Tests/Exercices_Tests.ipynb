{
 "cells": [
  {
   "cell_type": "markdown",
   "id": "e477f4de-009a-41f3-9b79-13a1c8a1a706",
   "metadata": {},
   "source": [
    "<div style=\"font-size:24px;\"><b> Exercices Tests and Limitations </b></div>"
   ]
  },
  {
   "cell_type": "markdown",
   "id": "495aa36b-cce3-488b-b967-a5a9e8ffd867",
   "metadata": {},
   "source": [
    "<div style=\"font-size:11pt;\"> This section includes automated tests specifically developed to evaluate the performance of the main code. These tests are crucial for assessing how well the programmed exercise interface supports students as they prepare for their FROI exam.</div>"
   ]
  },
  {
   "cell_type": "markdown",
   "id": "c2dae6d5-aee9-4864-b98f-662071e558b1",
   "metadata": {},
   "source": [
    "<span style=\"font-size:14pt; text-decoration:underline;\"> The Lists Import </span>"
   ]
  },
  {
   "cell_type": "code",
   "execution_count": 1,
   "id": "5c24004a-6691-4664-ac69-8c5fbe586905",
   "metadata": {
    "scrolled": true
   },
   "outputs": [],
   "source": [
    "%run ./Dictionnaries.ipynb\n",
    "%run ./Lists.ipynb"
   ]
  },
  {
   "cell_type": "markdown",
   "id": "9d2fd7e8-0561-42ff-8acf-7d29ab0449e7",
   "metadata": {},
   "source": [
    "<span style=\"font-size:14pt; text-decoration:underline;\"> The Reactions Functions Import </span>"
   ]
  },
  {
   "cell_type": "code",
   "execution_count": 2,
   "id": "6c03e23e-6bd4-4551-a5c2-c5e943a38a69",
   "metadata": {},
   "outputs": [],
   "source": [
    "%run ./Reaction_Functions.ipynb"
   ]
  },
  {
   "cell_type": "markdown",
   "id": "78e504ec-203f-43cd-a04f-7121f741f5ca",
   "metadata": {},
   "source": [
    "<span style=\"font-size:14pt; text-decoration:underline;\"> Necessary Import</span>"
   ]
  },
  {
   "cell_type": "code",
   "execution_count": 3,
   "id": "68180fd8-96df-4d68-bb19-532c41f6682b",
   "metadata": {},
   "outputs": [],
   "source": [
    "from rdkit import Chem\n",
    "from rdkit.Chem import AllChem\n",
    "from rdkit.Chem import Draw\n",
    "from IPython.display import display\n",
    "import sys\n",
    "\n",
    "from rdkit.Chem import PandasTools\n",
    "import pandas as pd\n",
    "from pathlib import Path\n",
    "import os\n",
    "\n",
    "\n",
    "from rdkit.Chem.Draw import IPythonConsole\n",
    "IPythonConsole.ipython_useSVG=True"
   ]
  },
  {
   "cell_type": "markdown",
   "id": "125ea5bd-0ef4-4c3d-b9a8-e747fd253967",
   "metadata": {},
   "source": [
    "<span style=\"font-size:14pt; text-decoration:underline;\"> Complementary Functions </span>"
   ]
  },
  {
   "cell_type": "code",
   "execution_count": 4,
   "id": "65193761-1aff-43ff-b896-6665ab45fe71",
   "metadata": {},
   "outputs": [],
   "source": [
    "# Function to check if the entered molecule is valid\n",
    "def validate_smiles(smiles):\n",
    "    if not smiles:\n",
    "        return None\n",
    "    molecule = Chem.MolFromSmiles(smiles)\n",
    "    if molecule is not None:\n",
    "        return molecule\n",
    "    else:\n",
    "        print(\"Invalid SMILES string entered.\")\n",
    "        return None\n",
    "\n",
    "# Function to check for subgroups in start molecules\n",
    "def subgroup_in_start(mol, Start):\n",
    "    matched_subgroup = []\n",
    "    for substr_smiles in Start:\n",
    "        substructure = Chem.MolFromSmarts(substr_smiles)\n",
    "        if mol.HasSubstructMatch(substructure):\n",
    "            matched_subgroup.append(substr_smiles)\n",
    "            matched_subgroup is not None\n",
    "    if len(matched_subgroup) == 0:\n",
    "        print(\"No Match Found\")\n",
    "        return None \n",
    "    else: \n",
    "        return matched_subgroup\n",
    "\n",
    "def subgroup_in_finish(finish_mol, Finish):\n",
    "    matched_subgroup_f = []\n",
    "    for substr_smiles in Finish:\n",
    "        substructure = Chem.MolFromSmarts(substr_smiles)\n",
    "        if finish_mol.HasSubstructMatch(substructure):\n",
    "            matched_subgroup_f.append(substr_smiles)\n",
    "            #print(f\"Match found for: {substr_smiles}\")\n",
    "\n",
    "    if len(matched_subgroup_f) == 0:\n",
    "        print(\"No Match Found\")\n",
    "        return None \n",
    "    else:\n",
    "        return matched_subgroup_f\n",
    "\n",
    "\n",
    "# Function to check if condition is in the predefined list\n",
    "def check_for_cond(condition, Condition):\n",
    "    for i in range(len(Condition)):\n",
    "        if condition == Condition[i]:\n",
    "            return True\n",
    "\n",
    "def check_same_dict_in_list(start, condition, Reaction):\n",
    "        globals_dict = globals()  # Get the current global symbol table\n",
    "        matched_subgroup = subgroup_in_start(start, Start)\n",
    "        for name in Reaction:\n",
    "            d = globals_dict.get(name)\n",
    "            #print(f\"Checking dictionary '{name}': {d}\")\n",
    "            if d is not None:\n",
    "                #print(f\"Start in dictionary: {matched_subgroup in d['Start']}\")\n",
    "                #print(f\"Condition in dictionary: {condition in d['Condition']}\"\n",
    "                for i in range(len(matched_subgroup)):    \n",
    "                    if matched_subgroup[i] in d[\"Start\"] and condition in d[\"Condition\"]:\n",
    "                        return name  # Return the name of the dictionary\n",
    "        \n",
    "        return None  # Return None if the dictionaries are not found\n",
    "    \n",
    "def check_same_dict_in_list1(start, start2, Reaction):\n",
    "    globals_dict = globals()  # Get the current global symbol table\n",
    "    matched_subgroup = subgroup_in_start(start, Start)\n",
    "    matched_subgroup2 = subgroup_in_start(start2, Start2)\n",
    "    for name in Reaction:\n",
    "        d = globals_dict.get(name)\n",
    "        #print(f\"Checking dictionary '{name}': {d}\")\n",
    "        if d is not None:\n",
    "            for i in range(len(matched_subgroup)):\n",
    "                for j in range(len(matched_subgroup)):\n",
    "                    if matched_subgroup[i] in d[\"Start\"] and matched_subgroup2[j] in d[\"Start2\"]:  # Update this line to use the correct keys\n",
    "                        return name  # Return the name of the dictionary\n",
    "    \n",
    "    return None  # Return None if the dictionaries are not found\n",
    "\n",
    "def check_same_dict_in_list3(finish, condition, Reaction):\n",
    "    globals_dict = globals()  # Access the global scope\n",
    "    matched_subgroup = subgroup_in_finish(finish, Finish)\n",
    "    if not matched_subgroup:\n",
    "        print(\"No matching subgroup found.\")\n",
    "        return None\n",
    "    for name in Reaction:\n",
    "        d = globals_dict.get(name)\n",
    "        if d is not None:\n",
    "            for i in range(len(matched_subgroup)):\n",
    "                if condition in d[\"Condition\"] and matched_subgroup[i] in d[\"Finish\"]:\n",
    "                    return name\n",
    "                else:\n",
    "                    pass\n",
    "\n",
    "    return None\n",
    "    \n",
    "def check_same_dict_in_list4(condition, finish, finish2, Reaction):\n",
    "    globals_dict = globals()  # Get the current global symbol table\n",
    "    matched_subgroup = subgroup_in_finish(finish, Finish)\n",
    "    matched_subgroup2 = subgroup_in_start(finish2, Finish)\n",
    "    for name in Reaction:\n",
    "        d = globals_dict.get(name)\n",
    "        #print(f\"Checking dictionary '{name}': {d}\")\n",
    "        if d is not None:\n",
    "            for i in range(len(subgroup_in_finish)):\n",
    "                for j in range(len(subgroup_in_start)):\n",
    "                    if condition in d[\"Condition\"] and matched_subgroup[i] in d[\"Finish\"] and matched_subgroup2[j] in d[\"Finish2\"]:  # Update this line to use the correct keys\n",
    "                        return name  # Return the name of the dictionary\n",
    "    \n",
    "    return None  # Return None if the dictionaries are not found\n",
    "\n",
    "def check_same_dict_in_list5(start,start2,condition,Reaction):\n",
    "    globals_dict = globals()  # Get the current global symbol table\n",
    "    matched_subgroup = subgroup_in_start(start, Start)\n",
    "    matched_subgroup2 = subgroup_in_start(start2, Start2)\n",
    "    for name in Reaction:\n",
    "        d = globals_dict.get(name)\n",
    "        #print(f\"Checking dictionary '{name}': {d}\")\n",
    "        if d is not None:\n",
    "            for i in range(len(matched_subgroup)):\n",
    "                for j in range(len(matched_subgroup2)):\n",
    "                    if matched_subgroup[i] in d[\"Start\"] and matched_subgroup2[j] in d[\"Start2\"] and condition in d[\"Condition\"]:  # Update this line to use the correct keys\n",
    "                        return name  # Return the name of the dictionary\n",
    "                        \n",
    "def apply_function(dictionary_name, dictionary, start_brut):\n",
    "    func = function_reaction.get(dictionary_name)\n",
    "    if func:\n",
    "        start_input_smiles = start_brut # Get the SMILES string from the dictionary\n",
    "        #print(f\"Calling function {func.__name__} with start_input_smiles: {start_input_smiles}\")\n",
    "        result = func(start_input_smiles)  # Call the function\n",
    "        return {'result': result, 'dictionary_name': dictionary_name}  # Return a dictionary with both the result and dictionary name\n",
    "    else:\n",
    "        raise ValueError(f\"No function defined for dictionary '{dictionary_name}'.\")\n",
    "\n",
    "def apply_function2(dictionary_name, dictionary, start_brut, start2_brut):\n",
    "    func = function_reaction.get(dictionary_name)\n",
    "    if func:\n",
    "        start_input_smiles = start_brut  # Get the SMILES string from the dictionary\n",
    "        start_input_smiles2 = start2_brut\n",
    "        #print(f\"Calling function {func.__name__} with start_input_smiles: {start_input_smiles}\")\n",
    "        result = func(start_input_smiles, start_input_smiles2)  # Call the function\n",
    "        return {'result': result, 'dictionary_name': dictionary_name}  # Return a dictionary with both the result and dictionary name\n",
    "    else:\n",
    "        raise ValueError(f\"No function defined for dictionary '{dictionary_name}'.\")\n",
    "\n"
   ]
  },
  {
   "cell_type": "markdown",
   "id": "19b35dc8-1d37-4131-b2b5-fb6e92435c87",
   "metadata": {},
   "source": [
    "<span style=\"font-size:14pt; text-decoration:underline;\"> Exercice Interface </span>"
   ]
  },
  {
   "cell_type": "code",
   "execution_count": 5,
   "id": "9a890a6b-065e-4051-b233-b4d46b485d9b",
   "metadata": {},
   "outputs": [],
   "source": [
    "def main():\n",
    "#for start molecule\n",
    "    start_brut = input(\"Initial molecule? Write in SMILES. Else, press Enter\")\n",
    "    start = validate_smiles(start_brut)\n",
    "    if start:\n",
    "        if subgroup_in_start(start, Start):\n",
    "            pass\n",
    "        else:\n",
    "            print(\"The initial molecule you entered cannot be found in our start database.\")\n",
    "#for start molecule 2\n",
    "    start2_brut = input(\"Is there a second initial molecule? If not, press Enter\")\n",
    "    start2 = validate_smiles(start2_brut)\n",
    "    if start2:\n",
    "        if subgroup_in_start(start2, Start2):  # Pass the molecule object, not the SMILES string\n",
    "            pass\n",
    "        else:\n",
    "            print(\"The second initial molecule you entered cannot be found in our start database.\")\n",
    "#for conditions\n",
    "    while True:  # This creates an infinite loop that will continue until explicitly broken out of\n",
    "        if_condition = input(\"Conditions? y/n\")\n",
    "        if if_condition.lower() == \"y\":\n",
    "            print(\"Copy paste conditions from the list below\")\n",
    "            print(Condition)\n",
    "            condition = input(\"Conditions:\")\n",
    "            if check_for_cond(condition, Condition):\n",
    "                break  # Exit the loop since the condition is valid\n",
    "            else:\n",
    "                print(\"Condition entered is not in the list. Please try again.\")\n",
    "        elif if_condition.lower() == \"n\":\n",
    "            condition = None\n",
    "            break  # Exit the loop since no conditions are applied\n",
    "        else:\n",
    "            print(\"Invalid input, please enter 'y' for yes or 'n' for no.\")\n",
    "    \n",
    "\n",
    "    # Handle the final molecule\n",
    "    finish_brut = input(\"Final molecule? Write in SMILES. Else, press Enter\")\n",
    "    finish = validate_smiles(finish_brut)\n",
    "    if finish:\n",
    "        if subgroup_in_finish(finish, Finish):  # Pass the molecule object, not the SMILES string\n",
    "            pass\n",
    "        else:\n",
    "            print(\"The final molecule you entered cannot be found in our start database.\")\n",
    "            \n",
    "    # Handle the second final molecule\n",
    "    finish2_brut = input(\"Is there a second final molecule? If not, press Enter\")\n",
    "    finish2 = validate_smiles(finish2_brut)\n",
    "    if finish2:\n",
    "        if subgroup_in_finish(finish2, Finish):  # Pass the molecule object, not the SMILES string\n",
    "            pass\n",
    "        else:\n",
    "            print(\"The final molecule you entered cannot be found in our start database.\")\n",
    "    \n",
    "    if start and not start2 and condition:\n",
    "        dictionary_name = check_same_dict_in_list(start, condition, Reaction)\n",
    "        if dictionary_name: # Check if a dictionary name is found\n",
    "            result_dict = apply_function(dictionary_name, globals()[dictionary_name], start_brut)\n",
    "            result = result_dict['result']\n",
    "            dictionary_name = result_dict['dictionary_name']\n",
    "            print(\"Result:\", result)\n",
    "            print(\"Dictionary name:\", dictionary_name)\n",
    "            print(\"initial molecule:\")\n",
    "            display(Draw.MolToImage(start))\n",
    "            print(\"final molecule:\")\n",
    "            display(Draw.MolToImage(result))\n",
    "        else:\n",
    "            print(\"No matching dictionary found.\")\n",
    "    \n",
    "    elif start and start2 and condition:\n",
    "        dictionary_name = check_same_dict_in_list5(start, start2, condition, Reaction)\n",
    "        if dictionary_name: # Check if a dictionary name is found\n",
    "            result_dict = apply_function2(dictionary_name, globals()[dictionary_name],start_brut, start2_brut)\n",
    "            result = result_dict['result']\n",
    "            dictionary_name = result_dict['dictionary_name']\n",
    "            print(\"Result:\", result)\n",
    "            print(\"Dictionary name:\", dictionary_name)\n",
    "            print(\"initial molecule:\")\n",
    "            display(Draw.MolToImage(start))\n",
    "            print(\"final molecule:\")\n",
    "            display(Draw.MolToImage(result))\n",
    "        else:\n",
    "            print(\"No matching dictionary found.\")        \n",
    "    \n",
    "    elif start and start2 and not condition:\n",
    "        dictionary_name = check_same_dict_in_list1(start, start2, Reaction)\n",
    "        if dictionary_name: # Check if a dictionary name is found\n",
    "            result_dict = apply_function2(dictionary_name, globals()[dictionary_name],start_brut, start2_brut)\n",
    "            result = result_dict['result']\n",
    "            dictionary_name = result_dict['dictionary_name']\n",
    "            print(\"Result:\", result)\n",
    "            print(\"Dictionary name:\", dictionary_name)\n",
    "            print(\"initial molecule:\")\n",
    "            display(Draw.MolToImage(start))\n",
    "            print(\"final molecule:\")\n",
    "            display(Draw.MolToImage(result))\n",
    "        else:\n",
    "            print(\"No matching dictionary found.\")\n",
    "\n",
    "    elif condition and finish:\n",
    "        dictionary_name = check_same_dict_in_list3(finish, condition, Reaction)\n",
    "        print(\"Dictionary name:\", dictionary_name)\n",
    "\n",
    "\n",
    "    elif condition and finish and finish2:\n",
    "        dictionary_name = check_same_dict_in_list4(condition, finish, finish2, Reaction)\n",
    "        print(\"Dictionary name:\", dictionary_name)"
   ]
  },
  {
   "cell_type": "markdown",
   "id": "863d1b51-b2dd-4723-92cb-7762d1473c6f",
   "metadata": {},
   "source": [
    "<span style=\"font-size:14pt; text-decoration:underline;\"> Test 1 </span>"
   ]
  },
  {
   "cell_type": "code",
   "execution_count": 6,
   "id": "924cf69e-834e-494c-80c8-b57df04c9c87",
   "metadata": {},
   "outputs": [
    {
     "name": "stdin",
     "output_type": "stream",
     "text": [
      "Initial molecule? Write in SMILES. Else, press Enter C1cCC(=O)CC1\n",
      "Is there a second initial molecule? If not, press Enter \n",
      "Conditions? y/n y\n"
     ]
    },
    {
     "name": "stdout",
     "output_type": "stream",
     "text": [
      "Copy paste conditions from the list below\n",
      "['Base and Nucleophile', 'Acid and Nucleophile', 'H2O and acid', ' H+ and 1equiv MeOH', 'H+ and 2equiv MeOH', 'Acid', 'pH>6', '4<pH<6', 'Base', 'OCCS(=O)(=O)[O-].[Na+]', 'S(=O)(=O)[O-].[Na+]', 'NH3, HCN', 'HCN, LiAlH4', 'H+,H2O', 'HCN', 'C2OOH', 'Base', 'H-', 'NaBH4, -78°C', 'NaBH4, CeCl3, MeOH', 'LiAlH4, 2 équiv.', 'LiAlH4', 'H+, NaBH3CN', 'NH2NH2, KOH, 180°C', 'Zn(Hg), HCl, reflux', 'Al(OR)3', 'SmI2, THF, -10°C', 'KOH, reflux', 'CN-, EtOH, H2O', 'KCN (0,3 equiv), 18-C-6 (0,1 equiv)', 'Catalyst: CN', 'Al(iPr)3', 'KHMDS, 18-Crown-6, -78°C', 'H+']\n"
     ]
    },
    {
     "name": "stdin",
     "output_type": "stream",
     "text": [
      "Conditions: NH2NH2, KOH, 180°C\n",
      "Final molecule? Write in SMILES. Else, press Enter \n",
      "Is there a second final molecule? If not, press Enter \n"
     ]
    },
    {
     "name": "stdout",
     "output_type": "stream",
     "text": [
      "Result: <rdkit.Chem.rdchem.Mol object at 0x148dca2d0>\n",
      "Dictionary name: wolf_kishner_huang_reduction\n",
      "initial molecule:\n"
     ]
    },
    {
     "data": {
      "image/jpeg": "[encoded data removed]",
      "image/png": "[encoded data removed]",
      "text/plain": [
       "<PIL.PngImagePlugin.PngImageFile image mode=RGB size=300x300>"
      ]
     },
     "metadata": {},
     "output_type": "display_data"
    },
    {
     "name": "stdout",
     "output_type": "stream",
     "text": [
      "final molecule:\n"
     ]
    },
    {
     "data": {
      "image/jpeg": "[encoded data removed]",
      "image/png": "[encoded data removed]",
      "text/plain": [
       "<PIL.PngImagePlugin.PngImageFile image mode=RGB size=300x300>"
      ]
     },
     "metadata": {},
     "output_type": "display_data"
    }
   ],
   "source": [
    "if __name__ == \"__main__\":\n",
    "    main()"
   ]
  },
  {
   "cell_type": "markdown",
   "id": "b747f5f8-f5c0-43fc-9cc5-a27270bc802f",
   "metadata": {},
   "source": [
    "<span style=\"font-size:14pt; text-decoration:underline;\"> Test 2 </span>"
   ]
  },
  {
   "cell_type": "markdown",
   "id": "a306b95a-5367-4bec-8758-ee440c55f835",
   "metadata": {},
   "source": [
    "<div style=\"font-size:11pt;\"> In case the input start molecule and the conditions correspond to a reaction that hasn't been coded yet, the code will still give a hint about the reaction's name. </div>"
   ]
  },
  {
   "cell_type": "code",
   "execution_count": null,
   "id": "19778629-ccba-4c88-98bb-592ba0d8b498",
   "metadata": {},
   "outputs": [
    {
     "name": "stdin",
     "output_type": "stream",
     "text": [
      "Initial molecule? Write in SMILES. Else, press Enter CC(=O)CC\n",
      "Is there a second initial molecule? If not, press Enter \n",
      "Conditions? y/n y\n"
     ]
    },
    {
     "name": "stdout",
     "output_type": "stream",
     "text": [
      "Copy paste conditions from the list below\n",
      "['Base and Nucleophile', 'Acid and Nucleophile', 'H2O and acid', ' H+ and 1equiv MeOH', 'H+ and 2equiv MeOH', 'Acid', 'pH>6', '4<pH<6', 'Base', 'OCCS(=O)(=O)[O-].[Na+]', 'S(=O)(=O)[O-].[Na+]', 'NH3, HCN', 'HCN, LiAlH4', 'H+,H2O', 'HCN', 'C2OOH', 'Base', 'H-', 'NaBH4, -78°C', 'NaBH4, CeCl3, MeOH', 'LiAlH4, 2 équiv.', 'LiAlH4', 'H+, NaBH3CN', 'NH2NH2, KOH, 180°C', 'Zn(Hg), HCl, reflux', 'Al(OR)3', 'SmI2, THF, -10°C', 'KOH, reflux', 'CN-, EtOH, H2O', 'KCN (0,3 equiv), 18-C-6 (0,1 equiv)', 'Catalyst: CN', 'Al(iPr)3', 'KHMDS, 18-Crown-6, -78°C', 'H+']\n"
     ]
    },
    {
     "name": "stdin",
     "output_type": "stream",
     "text": [
      "Conditions: Base and Nucleophile\n",
      "Final molecule? Write in SMILES. Else, press Enter \n",
      "Is there a second final molecule? If not, press Enter \n"
     ]
    }
   ],
   "source": [
    "if __name__ == \"__main__\":\n",
    "    main()"
   ]
  },
  {
   "cell_type": "markdown",
   "id": "238d81dc-0ac1-46d9-bcd0-0d06f7d0352c",
   "metadata": {},
   "source": [
    "<span style=\"font-size:14pt; text-decoration:underline;\"> Test 3 </span>"
   ]
  },
  {
   "cell_type": "markdown",
   "id": "429212f5-f872-44d2-8376-9fb7d34392cd",
   "metadata": {},
   "source": [
    "<div style=\"font-size:11pt;\"> The limitation of this code is that it lacks in flexibility since the conditions are strings contained in a list; even a change of space can disrupt the code. The code will ask to re-write the conditions. </div>"
   ]
  },
  {
   "cell_type": "code",
   "execution_count": 7,
   "id": "bf8db053-5dde-4490-987f-c1e3f4acff27",
   "metadata": {},
   "outputs": [
    {
     "name": "stdin",
     "output_type": "stream",
     "text": [
      "Initial molecule? Write in SMILES. Else, press Enter CCCC(=O)CC\n",
      "Is there a second initial molecule? If not, press Enter \n",
      "Conditions? y/n y\n"
     ]
    },
    {
     "name": "stdout",
     "output_type": "stream",
     "text": [
      "Copy paste conditions from the list below\n",
      "['Base and Nucleophile', 'Acid and Nucleophile', 'H2O and acid', ' H+ and 1equiv MeOH', 'H+ and 2equiv MeOH', 'Acid', 'pH>6', '4<pH<6', 'Base', 'OCCS(=O)(=O)[O-].[Na+]', 'S(=O)(=O)[O-].[Na+]', 'NH3, HCN', 'HCN, LiAlH4', 'H+,H2O', 'HCN', 'C2OOH', 'Base', 'H-', 'NaBH4, -78°C', 'NaBH4, CeCl3, MeOH', 'LiAlH4, 2 équiv.', 'LiAlH4', 'H+, NaBH3CN', 'NH2NH2, KOH, 180°C', 'Zn(Hg), HCl, reflux', 'Al(OR)3', 'SmI2, THF, -10°C', 'KOH, reflux', 'CN-, EtOH, H2O', 'KCN (0,3 equiv), 18-C-6 (0,1 equiv)', 'Catalyst: CN', 'Al(iPr)3', 'KHMDS, 18-Crown-6, -78°C', 'H+']\n"
     ]
    },
    {
     "name": "stdin",
     "output_type": "stream",
     "text": [
      "Conditions: NH2NH2,180°C\n"
     ]
    },
    {
     "name": "stdout",
     "output_type": "stream",
     "text": [
      "Condition entered is not in the list. Please try again.\n"
     ]
    },
    {
     "name": "stdin",
     "output_type": "stream",
     "text": [
      "Conditions? y/n y\n"
     ]
    },
    {
     "name": "stdout",
     "output_type": "stream",
     "text": [
      "Copy paste conditions from the list below\n",
      "['Base and Nucleophile', 'Acid and Nucleophile', 'H2O and acid', ' H+ and 1equiv MeOH', 'H+ and 2equiv MeOH', 'Acid', 'pH>6', '4<pH<6', 'Base', 'OCCS(=O)(=O)[O-].[Na+]', 'S(=O)(=O)[O-].[Na+]', 'NH3, HCN', 'HCN, LiAlH4', 'H+,H2O', 'HCN', 'C2OOH', 'Base', 'H-', 'NaBH4, -78°C', 'NaBH4, CeCl3, MeOH', 'LiAlH4, 2 équiv.', 'LiAlH4', 'H+, NaBH3CN', 'NH2NH2, KOH, 180°C', 'Zn(Hg), HCl, reflux', 'Al(OR)3', 'SmI2, THF, -10°C', 'KOH, reflux', 'CN-, EtOH, H2O', 'KCN (0,3 equiv), 18-C-6 (0,1 equiv)', 'Catalyst: CN', 'Al(iPr)3', 'KHMDS, 18-Crown-6, -78°C', 'H+']\n"
     ]
    },
    {
     "name": "stdin",
     "output_type": "stream",
     "text": [
      "Conditions: NH2NH2,KOH,180°C\n"
     ]
    },
    {
     "name": "stdout",
     "output_type": "stream",
     "text": [
      "Condition entered is not in the list. Please try again.\n"
     ]
    },
    {
     "name": "stdin",
     "output_type": "stream",
     "text": [
      "Conditions? y/n y\n"
     ]
    },
    {
     "name": "stdout",
     "output_type": "stream",
     "text": [
      "Copy paste conditions from the list below\n",
      "['Base and Nucleophile', 'Acid and Nucleophile', 'H2O and acid', ' H+ and 1equiv MeOH', 'H+ and 2equiv MeOH', 'Acid', 'pH>6', '4<pH<6', 'Base', 'OCCS(=O)(=O)[O-].[Na+]', 'S(=O)(=O)[O-].[Na+]', 'NH3, HCN', 'HCN, LiAlH4', 'H+,H2O', 'HCN', 'C2OOH', 'Base', 'H-', 'NaBH4, -78°C', 'NaBH4, CeCl3, MeOH', 'LiAlH4, 2 équiv.', 'LiAlH4', 'H+, NaBH3CN', 'NH2NH2, KOH, 180°C', 'Zn(Hg), HCl, reflux', 'Al(OR)3', 'SmI2, THF, -10°C', 'KOH, reflux', 'CN-, EtOH, H2O', 'KCN (0,3 equiv), 18-C-6 (0,1 equiv)', 'Catalyst: CN', 'Al(iPr)3', 'KHMDS, 18-Crown-6, -78°C', 'H+']\n"
     ]
    },
    {
     "name": "stdin",
     "output_type": "stream",
     "text": [
      "Conditions: NH2NH2, KOH, 180°C\n",
      "Final molecule? Write in SMILES. Else, press Enter \n",
      "Is there a second final molecule? If not, press Enter \n"
     ]
    },
    {
     "name": "stdout",
     "output_type": "stream",
     "text": [
      "Result: <rdkit.Chem.rdchem.Mol object at 0x148e0bd10>\n",
      "Dictionary name: wolf_kishner_huang_reduction\n",
      "initial molecule:\n"
     ]
    },
    {
     "data": {
      "image/jpeg": "[encoded data removed]",
      "image/png": "[encoded data removed]",
      "text/plain": [
       "<PIL.PngImagePlugin.PngImageFile image mode=RGB size=300x300>"
      ]
     },
     "metadata": {},
     "output_type": "display_data"
    },
    {
     "name": "stdout",
     "output_type": "stream",
     "text": [
      "final molecule:\n"
     ]
    },
    {
     "data": {
      "image/jpeg": "[encoded data removed]",
      "image/png": "[encoded data removed]",
      "text/plain": [
       "<PIL.PngImagePlugin.PngImageFile image mode=RGB size=300x300>"
      ]
     },
     "metadata": {},
     "output_type": "display_data"
    }
   ],
   "source": [
    "if __name__ == \"__main__\":\n",
    "    main()"
   ]
  },
  {
   "cell_type": "markdown",
   "id": "0605d94b-be4c-40be-9931-34beac34552d",
   "metadata": {},
   "source": [
    "<span style=\"font-size:14pt; text-decoration:underline;\"> Test 4 </span>"
   ]
  },
  {
   "cell_type": "markdown",
   "id": "989e2d0e-7e6c-4030-ad28-357d54eef217",
   "metadata": {},
   "source": [
    "<div style=\"font-size:11pt;\"> The initial molecule must be input in a valid Smiles version otherwise the code isn't unable to read the input information. </div>"
   ]
  },
  {
   "cell_type": "code",
   "execution_count": 26,
   "id": "672d9e76-9091-437b-91b4-cc0c94eb96d6",
   "metadata": {},
   "outputs": [
    {
     "name": "stdin",
     "output_type": "stream",
     "text": [
      "Initial molecule? Write in SMILES. Else, press Enter c1c1CC(=O)C1CCCCC1\n"
     ]
    },
    {
     "name": "stderr",
     "output_type": "stream",
     "text": [
      "[14:40:57] SMILES Parse Error: ring closure 1 duplicates bond between atom 0 and atom 1 for input: 'c1c1CC(=O)C1CCCCC1'\n"
     ]
    },
    {
     "name": "stdout",
     "output_type": "stream",
     "text": [
      "Invalid SMILES string entered.\n"
     ]
    },
    {
     "name": "stdin",
     "output_type": "stream",
     "text": [
      "Is there a second initial molecule? If not, press Enter \n",
      "Conditions? y/n n\n",
      "Final molecule? Write in SMILES. Else, press Enter \n",
      "Is there a second final molecule? If not, press Enter \n"
     ]
    }
   ],
   "source": [
    "if __name__ == \"__main__\":\n",
    "    main()"
   ]
  }
 ],
 "metadata": {
  "kernelspec": {
   "display_name": "Python 3 (ipykernel)",
   "language": "python",
   "name": "python3"
  },
  "language_info": {
   "codemirror_mode": {
    "name": "ipython",
    "version": 3
   },
   "file_extension": ".py",
   "mimetype": "text/x-python",
   "name": "python",
   "nbconvert_exporter": "python",
   "pygments_lexer": "ipython3",
   "version": "3.10.13"
  }
 },
 "nbformat": 4,
 "nbformat_minor": 5
}
