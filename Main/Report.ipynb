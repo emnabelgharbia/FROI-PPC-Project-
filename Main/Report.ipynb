{
 "cells": [
  {
   "cell_type": "markdown",
   "id": "9d2791d7-f53b-467d-a208-4ad623d107a7",
   "metadata": {},
   "source": [
    "<div style=\"font-size:24px;\"><b>Fonctions & Réactions Organiques I - Practical Programming in Chemistry</b></div>\n"
   ]
  },
  {
   "cell_type": "markdown",
   "id": "66c6976d-a42a-405f-a78b-4d8cf48b1329",
   "metadata": {},
   "source": [
    "<div style=\"font-size:11pt;\"> \n",
    "This project is a digital assistant designed to help students with \"Fonctions et Réactions Organiques I\" exams. The core function of this code is to input starting materials and conditions, and the tool uses a pre-programmed database to predict and output the resultant chemical compounds</div>\n"
   ]
  },
  {
   "cell_type": "markdown",
   "id": "b99a4819-a84d-4528-939d-a4828ec3c6d3",
   "metadata": {},
   "source": [
    "<span style=\"font-size:14pt; text-decoration:underline;\"> Necessary Imports </span>"
   ]
  },
  {
   "cell_type": "code",
   "execution_count": null,
   "id": "fc9f01c0-6172-4f6b-b0ef-e76e6fa1e5dc",
   "metadata": {},
   "outputs": [],
   "source": [
    "from rdkit import Chem\n",
    "from rdkit.Chem import AllChem\n",
    "from rdkit.Chem import Draw\n",
    "from IPython.display import display\n",
    "import sys\n",
    "\n",
    "from rdkit.Chem import PandasTools\n",
    "import pandas as pd\n",
    "from pathlib import Path\n",
    "import os\n",
    "\n",
    "\n",
    "from rdkit.Chem.Draw import IPythonConsole\n",
    "IPythonConsole.ipython_useSVG=True"
   ]
  },
  {
   "cell_type": "markdown",
   "id": "186e21b8-d09e-4cc2-a633-b27fc40dc16d",
   "metadata": {},
   "source": [
    "<span style=\"font-size:14pt; text-decoration:underline;\"> Part I: Database </span>\n",
    "\n"
   ]
  },
  {
   "cell_type": "markdown",
   "id": "5b630094-0fb7-4a4f-a098-199d7abd69ef",
   "metadata": {},
   "source": [
    "<div style=\"font-size:11pt;\"> The data section provides an overview of the available chemical reactions, detailing the recognized chemical patterns and the specific conditions under which these reactions occur. This database enables the tool to accurately match user inputs with the appropriate reactions. </div>"
   ]
  },
  {
   "cell_type": "code",
   "execution_count": null,
   "id": "e2f3288f-6d46-4de4-ab6c-08776eb4adaf",
   "metadata": {},
   "outputs": [],
   "source": []
  },
  {
   "cell_type": "code",
   "execution_count": null,
   "id": "0ec2db0f-193c-464c-b1a1-5aa0d8a0ac8a",
   "metadata": {},
   "outputs": [],
   "source": []
  },
  {
   "cell_type": "markdown",
   "id": "3220f30b-75c8-4149-a59e-50dae99dd296",
   "metadata": {},
   "source": [
    "<span style=\"font-size:14pt; text-decoration:underline;\"> Part II: Reaction Functions </span>"
   ]
  },
  {
   "cell_type": "code",
   "execution_count": null,
   "id": "6a6d29ee-3ab8-49d1-bba0-b5b2bae7978b",
   "metadata": {},
   "outputs": [],
   "source": []
  },
  {
   "cell_type": "code",
   "execution_count": null,
   "id": "0cc223b5-f43f-4448-b9e6-c520d846ab8a",
   "metadata": {},
   "outputs": [],
   "source": []
  },
  {
   "cell_type": "markdown",
   "id": "1cb4348c-c712-42b0-9042-8175ab1a7c07",
   "metadata": {},
   "source": [
    "<span style=\"font-size:14pt; text-decoration:underline;\"> Part III: Exercice Resolution </span>"
   ]
  },
  {
   "cell_type": "code",
   "execution_count": null,
   "id": "68216d95-dcc0-44f1-96d1-ac5ac639ec8f",
   "metadata": {},
   "outputs": [],
   "source": [
    "def main():\n",
    "#for start molecule\n",
    "    start_brut = input(\"Initial molecule? Write in SMILES. Else, press Enter\")\n",
    "    start = validate_smiles(start_brut)\n",
    "    if start:\n",
    "        if subgroup_in_start(start, Start):\n",
    "            print(\"Initial molecule is in the start list.\")\n",
    "        else:\n",
    "            print(\"The initial molecule you entered cannot be found in our start database.\")\n",
    "        start_brut = input(\"Initial molecule? Write in SMILES. Else, press Enter\")\n",
    "#for start molecule 2\n",
    "    start2_brut = input(\"Is there a second initial molecule? If not, press Enter\")\n",
    "    start2 = validate_smiles(start2_brut)\n",
    "    if start2:\n",
    "        if subgroup_in_start2(start2, Start2):  # Pass the molecule object, not the SMILES string\n",
    "            #print(\"Second initial molecule is in the start list.\")\n",
    "            pass\n",
    "        else:\n",
    "            print(\"The second initial molecule you entered cannot be found in our start database.\")\n",
    "#for conditions\n",
    "    if_condition = input(\"Conditions? y/n\")\n",
    "    if if_condition == \"y\":\n",
    "        print(\"Copy paste conditions from the list below\")\n",
    "        print(Condition)\n",
    "        condition = input(\"Conditions:\")\n",
    "        if check_for_cond(condition, Condition):\n",
    "            #print(\"Condition is valid.\")\n",
    "            pass\n",
    "        else:\n",
    "            print(\"Condition entered is not in the list.\")\n",
    "    elif if_condition == \"n\":\n",
    "        #print(\"No conditions applied.\")\n",
    "        condition = None\n",
    "    \n",
    "    # Handle the final molecule\n",
    "    finish_brut = input(\"Final molecule? Write in SMILES. Else, press Enter\")\n",
    "    finish = validate_smiles(finish_brut)\n",
    "    if finish:\n",
    "        if subgroup_in_finish(finish, Finish1):  # Pass the molecule object, not the SMILES string\n",
    "            pass\n",
    "        else:\n",
    "            print(\"The final molecule you entered cannot be found in our start database.\")\n",
    "    \n",
    "    # Handle the second final molecule\n",
    "    finish2_brut = input(\"Is there a second final molecule? If not, press Enter\")\n",
    "    finish2 = validate_smiles(finish2_brut)\n",
    "    if finish2:\n",
    "        if subgroup_in_finish(finish2, Finish1):  # Pass the molecule object, not the SMILES string\n",
    "            #print(\"Final molecule is in the start list.\")\n",
    "            pass\n",
    "        else:\n",
    "            print(\"The final molecule you entered cannot be found in our start database.\")\n",
    "\n",
    "\n",
    "    if start and condition:\n",
    "            dictionary_name = check_same_dict_in_list(start, condition, Reaction)\n",
    "            if dictionary_name: # Check if a dictionary name is found\n",
    "                print(\"ok\")\n",
    "                result_dict = apply_function(dictionary_name, globals()[dictionary_name])\n",
    "                result = result_dict['result']\n",
    "                dictionary_name = result_dict['dictionary_name']\n",
    "                print(\"Result:\", result)\n",
    "                print(\"Dictionary name:\", dictionary_name)\n",
    "                print(\"final molecule:\")\n",
    "                display(Draw.MolToImage(result))\n",
    "                print(\"initial molecule:\")\n",
    "                display(Draw.MolToImage(start))\n",
    "            else:\n",
    "                print(\"No matching dictionary found.\")\n",
    "    \n",
    "    \n",
    "    if start and start2:\n",
    "            print(\"INNN\")\n",
    "            dictionary_name = check_same_dict_in_list1(start, start2, Reaction)\n",
    "            if dictionary_name: # Check if a dictionary name is found\n",
    "                print(\"ok\")\n",
    "                result_dict = apply_function2(dictionary_name, globals()[dictionary_name])\n",
    "                result = result_dict['result']\n",
    "                dictionary_name = result_dict['dictionary_name']\n",
    "                print(\"Result:\", result)\n",
    "                print(\"Dictionary name:\", dictionary_name)\n",
    "                print(\"final molecule:\")\n",
    "                display(Draw.MolToImage(result))\n",
    "                print(\"initial molecule:\")\n",
    "                display(Draw.MolToImage(start))\n",
    "            else:\n",
    "                print(\"No matching dictionary found.\")"
   ]
  },
  {
   "cell_type": "code",
   "execution_count": null,
   "id": "8a216214-3bc2-40a1-b93a-5493ba16e3a7",
   "metadata": {},
   "outputs": [],
   "source": []
  }
 ],
 "metadata": {
  "kernelspec": {
   "display_name": "Python 3 (ipykernel)",
   "language": "python",
   "name": "python3"
  },
  "language_info": {
   "codemirror_mode": {
    "name": "ipython",
    "version": 3
   },
   "file_extension": ".py",
   "mimetype": "text/x-python",
   "name": "python",
   "nbconvert_exporter": "python",
   "pygments_lexer": "ipython3",
   "version": "3.10.13"
  }
 },
 "nbformat": 4,
 "nbformat_minor": 5
}
