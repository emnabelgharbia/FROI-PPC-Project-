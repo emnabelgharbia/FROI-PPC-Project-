{
 "cells": [
  {
   "cell_type": "markdown",
   "id": "9d2791d7-f53b-467d-a208-4ad623d107a7",
   "metadata": {},
   "source": [
    "<div style=\"font-size:24px;\"><b>Fonctions & Réactions Organiques I - Practical Programming in Chemistry</b></div>\n"
   ]
  },
  {
   "cell_type": "markdown",
   "id": "66c6976d-a42a-405f-a78b-4d8cf48b1329",
   "metadata": {},
   "source": [
    "<div style=\"font-size:11pt;\"> \n",
    "This project is a digital assistant designed to help students with \"Fonctions et Réactions Organiques I\" exams. The core function of this code is to input starting materials and conditions, and the tool uses a pre-programmed database to predict and output the resultant chemical compounds</div>\n"
   ]
  },
  {
   "cell_type": "markdown",
   "id": "b99a4819-a84d-4528-939d-a4828ec3c6d3",
   "metadata": {},
   "source": [
    "<span style=\"font-size:14pt; text-decoration:underline;\"> Necessary Imports </span>"
   ]
  },
  {
   "cell_type": "code",
   "execution_count": 1,
   "id": "fc9f01c0-6172-4f6b-b0ef-e76e6fa1e5dc",
   "metadata": {},
   "outputs": [],
   "source": [
    "from rdkit import Chem\n",
    "from rdkit.Chem import AllChem\n",
    "from rdkit.Chem import Draw\n",
    "from IPython.display import display\n",
    "import sys\n",
    "\n",
    "from rdkit.Chem import PandasTools\n",
    "import pandas as pd\n",
    "from pathlib import Path\n",
    "import os\n",
    "\n",
    "\n",
    "from rdkit.Chem.Draw import IPythonConsole\n",
    "IPythonConsole.ipython_useSVG=True"
   ]
  },
  {
   "cell_type": "markdown",
   "id": "186e21b8-d09e-4cc2-a633-b27fc40dc16d",
   "metadata": {},
   "source": [
    "<span style=\"font-size:14pt; text-decoration:underline;\"> Part I: Database </span>\n",
    "\n"
   ]
  },
  {
   "cell_type": "markdown",
   "id": "5b630094-0fb7-4a4f-a098-199d7abd69ef",
   "metadata": {},
   "source": [
    "<div style=\"font-size:11pt;\"> This data section provides an overview of the available chemical reactions, detailing the recognized chemical patterns and the specific conditions under which these reactions occur. This database enables the tool to accurately match user inputs with the appropriate reactions. </div>"
   ]
  },
  {
   "cell_type": "code",
   "execution_count": 2,
   "id": "e2f3288f-6d46-4de4-ab6c-08776eb4adaf",
   "metadata": {},
   "outputs": [],
   "source": [
    "%run ./Dictionnaries.ipynb\n",
    "%run ./Lists.ipynb"
   ]
  },
  {
   "cell_type": "markdown",
   "id": "3220f30b-75c8-4149-a59e-50dae99dd296",
   "metadata": {},
   "source": [
    "<span style=\"font-size:14pt; text-decoration:underline;\"> Part II: Reaction Functions </span>"
   ]
  },
  {
   "cell_type": "markdown",
   "id": "aa083bfa-5fb8-40a2-be53-8131788f84a8",
   "metadata": {},
   "source": [
    "<div style=\"font-size:11pt;\"> This reaction functions section provides a detailed overview of available reactions and they were developped in order to simulate the correct final compound. These functions enable the tool to accurately react the inital molecule to yield the corresponding final molecule. </div>"
   ]
  },
  {
   "cell_type": "code",
   "execution_count": 3,
   "id": "0ec2db0f-193c-464c-b1a1-5aa0d8a0ac8a",
   "metadata": {},
   "outputs": [],
   "source": [
    "%run ./Reaction_Functions.ipynb"
   ]
  },
  {
   "cell_type": "markdown",
   "id": "1cb4348c-c712-42b0-9042-8175ab1a7c07",
   "metadata": {},
   "source": [
    "<span style=\"font-size:14pt; text-decoration:underline;\"> Part III: Exercice Resolution </span>"
   ]
  },
  {
   "cell_type": "markdown",
   "id": "f993c993-9422-4175-b1ea-9ce54fd22a1c",
   "metadata": {},
   "source": [
    "<div style=\"font-size:11pt;\"> _____ Once the tool accurately pair user inputs with corresponding reactions after entering a start molecule and its conditions, the database compares this to its records, identifies the appropriate reaction, and simulates the outcome. This process results in the prediction and visualization of the product molecule, facilitating effective chemical analysis and experimentation. </div>"
   ]
  },
  {
   "cell_type": "code",
   "execution_count": 11,
   "id": "ea4988ff-683c-488a-b091-a9f59f67aaf4",
   "metadata": {},
   "outputs": [
    {
     "ename": "IndentationError",
     "evalue": "unindent does not match any outer indentation level (<tokenize>, line 37)",
     "output_type": "error",
     "traceback": [
      "\u001b[0;36m  File \u001b[0;32m<tokenize>:37\u001b[0;36m\u001b[0m\n\u001b[0;31m    return None\u001b[0m\n\u001b[0m    ^\u001b[0m\n\u001b[0;31mIndentationError\u001b[0m\u001b[0;31m:\u001b[0m unindent does not match any outer indentation level\n"
     ]
    }
   ],
   "source": [
    "## complementary functions\n",
    "# Function to check if the entered molecule is valid\n",
    "def validate_smiles(smiles):\n",
    "    if not smiles:\n",
    "        return None\n",
    "    molecule = Chem.MolFromSmiles(smiles)\n",
    "    if molecule is not None:\n",
    "        return molecule\n",
    "    else:\n",
    "        print(\"Invalid SMILES string entered.\")\n",
    "        return None\n",
    "\n",
    "# Function to check for subgroups in start molecules\n",
    "def subgroup_in_start(mol, Start):\n",
    "    matched_subgroup = []\n",
    "    for substr_smiles in Start:\n",
    "        substructure = Chem.MolFromSmarts(substr_smiles)\n",
    "        if mol.HasSubstructMatch(substructure):\n",
    "            matched_subgroup.append(substr_smiles)\n",
    "            matched_subgroup is not None\n",
    "    if len(matched_subgroup) == 0:\n",
    "        print(\"No Match Found\")\n",
    "        return None \n",
    "    else: \n",
    "        return matched_subgroup\n",
    "\n",
    "def subgroup_in_finish(finish_mol, Finish):\n",
    "    matched_subgroup_f = []\n",
    "    for substr_smiles in Finish:\n",
    "        substructure = Chem.MolFromSmarts(substr_smiles)\n",
    "        if finish_mol.HasSubstructMatch(substructure):\n",
    "            matched_subgroup_f.append(substr_smiles)\n",
    "            print(f\"Match found for: {substr_smiles}\")\n",
    "\n",
    "    if len(matched_subgroup_f) == 0:\n",
    "         print(\"No Match Found\")\n",
    "        return None \n",
    "    else:\n",
    "        return matched_subgroup_f\n",
    "\n",
    "\n",
    "# Function to check if condition is in the predefined list\n",
    "def check_for_cond(condition, Condition):\n",
    "    for i in range(len(Condition)):\n",
    "        if condition == Condition[i]:\n",
    "            return True\n",
    "\n",
    "def check_same_dict_in_list(start, condition, Reaction):\n",
    "        globals_dict = globals()  # Get the current global symbol table\n",
    "        matched_subgroup = subgroup_in_start(start, Start)\n",
    "        for name in Reaction:\n",
    "            d = globals_dict.get(name)\n",
    "            #print(f\"Checking dictionary '{name}': {d}\")\n",
    "            if d is not None:\n",
    "                #print(f\"Start in dictionary: {matched_subgroup in d['Start']}\")\n",
    "                #print(f\"Condition in dictionary: {condition in d['Condition']}\"\n",
    "                for i in range(len(matched_subgroup)):\n",
    "                      if matched_subgroup[i] in d[\"Start\"] and condition in d[\"Condition\"]:\n",
    "                        return name  # Return the name of the dictionary\n",
    "        \n",
    "        return None  # Return None if the dictionaries are not found\n",
    "    \n",
    "def check_same_dict_in_list1(start, start2, Reaction):\n",
    "    globals_dict = globals()  # Get the current global symbol table\n",
    "    matched_subgroup = subgroup_in_start(start, Start)\n",
    "    matched_subgroup2 = subgroup_in_start(start2, Start2)\n",
    "    for name in Reaction:\n",
    "        d = globals_dict.get(name)\n",
    "        #print(f\"Checking dictionary '{name}': {d}\")\n",
    "        if d is not None:\n",
    "            for i in range(len(matched_subgroup)):\n",
    "                for j in range(len(matched_subgroup)):\n",
    "                    if matched_subgroup[i] in d[\"Start\"] and matched_subgroup2[j] in d[\"Start2\"]:  # Update this line to use the correct keys\n",
    "                        return name  # Return the name of the dictionary\n",
    "    \n",
    "    return None  # Return None if the dictionaries are not found\n",
    "\n",
    "def check_same_dict_in_list3(finish, condition, Reaction):\n",
    "    globals_dict = globals()  # Access the global scope\n",
    "     if not matched_subgroup:\n",
    "        print(\"No matching subgroup found.\")\n",
    "        return None\n",
    "    for name in Reaction:\n",
    "        d = globals_dict.get(name)\n",
    "        if d is not None:\n",
    "            for i in range(len(matched_subgroup)):\n",
    "                if condition in d[\"Condition\"] and matched_subgroup[i] in d[\"Finish\"]:\n",
    "                    return name\n",
    "                else:\n",
    "                    pass\n",
    "\n",
    "    return None\n",
    "    \n",
    "def check_same_dict_in_list4(condition, finish, finish2, Reaction):\n",
    "    globals_dict = globals()  # Get the current global symbol table\n",
    "    matched_subgroup = subgroup_in_finish(finish, Finish)\n",
    "    matched_subgroup2 = subgroup_in_start(finish2, Finish)\n",
    "    for name in Reaction:\n",
    "        d = globals_dict.get(name)\n",
    "        #print(f\"Checking dictionary '{name}': {d}\")\n",
    "        if d is not None:\n",
    "            for i in range(len(subgroup_in_finish)):\n",
    "                for j in range(len(subgroup_in_start)):\n",
    "                    if condition in d[\"Condition\"] and matched_subgroup[i] in d[\"Finish\"] and matched_subgroup2[j] in d[\"Finish2\"]:  # Update this line to use the correct keys\n",
    "                        return name  # Return the name of the dictionary\n",
    "    \n",
    "    return None  # Return None if the dictionaries are not found\n",
    "\n",
    "def check_same_dict_in_list5(start,start2,condition,Reaction):\n",
    "     globals_dict = globals()  # Get the current global symbol table\n",
    "    matched_subgroup = subgroup_in_start(start, Start)\n",
    "    matched_subgroup2 = subgroup_in_start(start2, Start2)\n",
    "    for name in Reaction:\n",
    "        d = globals_dict.get(name)\n",
    "        #print(f\"Checking dictionary '{name}': {d}\")\n",
    "        if d is not None:\n",
    "            for i in range(len(matched_subgroup)):\n",
    "                for j in range(len(matched_subgroup2)):\n",
    "                    if matched_subgroup[i] in d[\"Start\"] and matched_subgroup2[j] in d[\"Start2\"] and condition in d[\"Condition\"]:  # Update this line to use the correct keys\n",
    "                        return name  # Return the name of the dictionary\n",
    "                        \n",
    "def apply_function(dictionary_name, dictionary, start_brut):\n",
    "    func = function_reaction.get(dictionary_name)\n",
    "    if func:\n",
    "        start_input_smiles = start_brut # Get the SMILES string from the dictionary\n",
    "        result = func(start_input_smiles)  # Call the function\n",
    "        return {'result': result, 'dictionary_name': dictionary_name}  # Return a dictionary with both the result and dictionary name\n",
    "    else:\n",
    "        raise ValueError(f\"No function defined for dictionary '{dictionary_name}'.\")\n",
    "\n",
    "def apply_function2(dictionary_name, dictionary, start_brut, start2_brut):\n",
    "    func = function_reaction.get(dictionary_name)\n",
    "    if func:\n",
    "        start_input_smiles = start_brut  # Get the SMILES string from the dictionary\n",
    "        start_input_smiles2 = start2_brut\n",
    "        result = func(start_input_smiles, start_input_smiles2)  # Call the function\n",
    "        return {'result': result, 'dictionary_name': dictionary_name}  # Return a dictionary with both the result and dictionary name\n",
    "    else:\n",
    "        raise ValueError(f\"No function defined for dictionary '{dictionary_name}'.\")\n"
   ]
  },
  {
   "cell_type": "code",
   "execution_count": 12,
   "id": "fee0659b-b21b-4c4d-9d96-51e0efa45c4c",
   "metadata": {},
   "outputs": [],
   "source": [
    "def main():\n",
    "#for start molecule\n",
    "    start_brut = input(\"Initial molecule? Write in SMILES. Else, press Enter\")\n",
    "    start = validate_smiles(start_brut)\n",
    "    if start:\n",
    "        if subgroup_in_start(start, Start):\n",
    "            pass\n",
    "        else:\n",
    "            print(\"The initial molecule you entered cannot be found in our start database.\")\n",
    "#for start molecule 2\n",
    "    start2_brut = input(\"Is there a second initial molecule? If not, press Enter\")\n",
    "    start2 = validate_smiles(start2_brut)\n",
    "    if start2:\n",
    "        if subgroup_in_start(start2, Start2):  # Pass the molecule object, not the SMILES string\n",
    "            pass\n",
    "        else:\n",
    "            print(\"The second initial molecule you entered cannot be found in our start database.\")\n",
    "#for conditions\n",
    "    while True:  # Creating an infinite loop that will continue until explicitly broken out of\n",
    "        if_condition = input(\"Conditions? y/n\")\n",
    "        if if_condition.lower() == \"y\":\n",
    "            print(\"Copy paste conditions from the list below\")\n",
    "            print(Condition)\n",
    "            condition = input(\"Conditions:\")\n",
    "            if check_for_cond(condition, Condition):\n",
    "                break  # Exit the loop since the condition is valid\n",
    "            else:\n",
    "                print(\"Condition entered is not in the list. Please try again.\")\n",
    "        elif if_condition.lower() == \"n\":\n",
    "            condition = None\n",
    "            break  # Exit the loop since no conditions are applied\n",
    "        else:\n",
    "            print(\"Invalid input, please enter 'y' for yes or 'n' for no.\")\n",
    "    \n",
    "\n",
    "    # Handle the final molecule\n",
    "    finish_brut = input(\"Final molecule? Write in SMILES. Else, press Enter\")\n",
    "    finish = validate_smiles(finish_brut)\n",
    "    if finish:\n",
    "        if subgroup_in_finish(finish, Finish):  # Pass the molecule object, not the SMILES string\n",
    "            pass\n",
    "        else:\n",
    "            print(\"The final molecule you entered cannot be found in our start database.\")\n",
    "            \n",
    "    # Handle the second final molecule\n",
    "    finish2_brut = input(\"Is there a second final molecule? If not, press Enter\")\n",
    "    finish2 = validate_smiles(finish2_brut)\n",
    "    if finish2:\n",
    "        if subgroup_in_finish(finish2, Finish):  # Pass the molecule object, not the SMILES string\n",
    "            pass\n",
    "        else:\n",
    "            print(\"The final molecule you entered cannot be found in our start database.\")\n",
    "\n",
    "    \n",
    "    if start and not start2 and condition:\n",
    "        dictionary_name = check_same_dict_in_list(start, condition, Reaction)\n",
    "        if dictionary_name: # Check if a dictionary name is found\n",
    "            result_dict = apply_function(dictionary_name, globals()[dictionary_name], start_brut)\n",
    "            result = result_dict['result']\n",
    "            dictionary_name = result_dict['dictionary_name']\n",
    "            print(\"Result:\", result)\n",
    "            print(\"Dictionary name:\", dictionary_name)\n",
    "            print(\"initial molecule:\")\n",
    "            display(Draw.MolToImage(start))\n",
    "            print(\"final molecule:\")\n",
    "            display(Draw.MolToImage(result))\n",
    "        else:\n",
    "            print(\"No matching dictionary found.\")\n",
    "    \n",
    "    elif start and start2 and condition:\n",
    "        dictionary_name = check_same_dict_in_list5(start, start2, condition, Reaction)\n",
    "        if dictionary_name: # Check if a dictionary name is found\n",
    "            result_dict = apply_function2(dictionary_name, globals()[dictionary_name],start_brut, start2_brut)\n",
    "            result = result_dict['result']\n",
    "            dictionary_name = result_dict['dictionary_name']\n",
    "            print(\"Result:\", result)\n",
    "            print(\"Dictionary name:\", dictionary_name)\n",
    "            print(\"initial molecule:\")\n",
    "            display(Draw.MolToImage(start))\n",
    "            print(\"final molecule:\")\n",
    "            display(Draw.MolToImage(result))\n",
    "        else:\n",
    "            print(\"No matching dictionary found.\")        \n",
    "    \n",
    "    elif start and start2 and not condition:\n",
    "        dictionary_name = check_same_dict_in_list1(start, start2, Reaction)\n",
    "        if dictionary_name: # Check if a dictionary name is found\n",
    "            result_dict = apply_function2(dictionary_name, globals()[dictionary_name],start_brut, start2_brut)\n",
    "            result = result_dict['result']\n",
    "            dictionary_name = result_dict['dictionary_name']\n",
    "            print(\"Result:\", result)\n",
    "            print(\"Dictionary name:\", dictionary_name)\n",
    "            print(\"initial molecule:\")\n",
    "            display(Draw.MolToImage(start))\n",
    "            print(\"final molecule:\")\n",
    "            display(Draw.MolToImage(result))\n",
    "        else:\n",
    "            print(\"No matching dictionary found.\")\n",
    "\n",
    "    elif condition and finish:\n",
    "        print(\"etape3\", type(finish), finish)\n",
    "        dictionary_name = check_same_dict_in_list3(finish, condition, Reaction)\n",
    "        print(\"Dictionary name:\", dictionary_name)\n",
    "\n",
    "\n",
    "    elif condition and finish and finish2:\n",
    "        dictionary_name = check_same_dict_in_list4(condition, finish, finish2, Reaction)\n",
    "        print(\"Dictionary name:\", dictionary_name)"
   ]
  },
  {
   "cell_type": "markdown",
   "id": "a11f4d86-2df3-43c5-90af-6f03c44567e4",
   "metadata": {},
   "source": [
    "<div style=\"font-size:11pt;\"> Example 1:  </div>"
   ]
  },
  {
   "cell_type": "code",
   "execution_count": 13,
   "id": "77ed9e7c-1043-4fea-b55f-9a9f5acfadc2",
   "metadata": {},
   "outputs": [],
   "source": [
    "#if __name__ == \"__main__\":\n",
    "    #main()"
   ]
  },
  {
   "cell_type": "markdown",
   "id": "b61ef455-869f-4003-9464-f281b0356743",
   "metadata": {},
   "source": [
    "<div style=\"font-size:11pt;\"> Example 2:  </div>"
   ]
  },
  {
   "cell_type": "code",
   "execution_count": null,
   "id": "453d58e7-8e7f-4456-8c76-a310f232793a",
   "metadata": {},
   "outputs": [],
   "source": []
  },
  {
   "cell_type": "markdown",
   "id": "48217d25-9819-4fa1-9356-e20c190e7ffe",
   "metadata": {},
   "source": [
    "<div style=\"font-size:11pt;\"> Example 3:  </div>"
   ]
  },
  {
   "cell_type": "code",
   "execution_count": null,
   "id": "0b46c36d-50e8-461e-8706-732f638ed38f",
   "metadata": {},
   "outputs": [],
   "source": []
  }
 ],
 "metadata": {
  "kernelspec": {
   "display_name": "Python 3 (ipykernel)",
   "language": "python",
   "name": "python3"
  },
  "language_info": {
   "codemirror_mode": {
    "name": "ipython",
    "version": 3
   },
   "file_extension": ".py",
   "mimetype": "text/x-python",
   "name": "python",
   "nbconvert_exporter": "python",
   "pygments_lexer": "ipython3",
   "version": "3.10.13"
  }
 },
 "nbformat": 4,
 "nbformat_minor": 5
}
