{
 "cells": [
  {
   "cell_type": "code",
   "execution_count": 19,
   "id": "fce3e2f5-9983-47e3-a5ea-940f67a52826",
   "metadata": {},
   "outputs": [
    {
     "data": {
      "image/png": "[encoded data removed]",
      "text/plain": [
       "<rdkit.Chem.rdchem.Mol at 0x12fbf63b0>"
      ]
     },
     "execution_count": 19,
     "metadata": {},
     "output_type": "execute_result"
    }
   ],
   "source": [
    "from rdkit import Chem\n",
    "from rdkit.Chem import AllChem\n",
    "from rdkit.Chem import Draw\n",
    "\n",
    "Imine_Formation2 = { \"Name\": \" Addition of amines on acidic conditions\",\"Start\": \"CC(=O)C\" ,\"Start2\":\"NC\", \"Condition\" : \"4<pH<6\",  \"Finish\":\"CC(=NC)C\" }\n",
    "Imine_Formation1 = { \"Name\": \"Addition of amines on basic conditions\" ,\"Start\": \"CC(=O)C\" , \"Start2\":\"NC\",\"Condition\" : \"pH>6\",  \"Finish\":\"CC(=NC)C\" }\n",
    "\n",
    "def Imine_Formation2_function(start_input_smiles, condition_input):\n",
    "\n",
    "    Imine_Formation2 = { \"Name\": \"Addition of amines on acidic conditions\",\n",
    "        \"Start\": \"C(=O)C\", \n",
    "        \"Condition\": \"4<pH<6\",\n",
    "        \"Finish\": \"C(=N)C\"}  \n",
    "    \n",
    "    input_mol = Chem.MolFromSmiles(start_input_smiles)\n",
    "    start_mol = Chem.MolFromSmiles(Imine_Formation2[\"Start\"])\n",
    "\n",
    "   \n",
    "    if input_mol.HasSubstructMatch(start_mol) and Imine_Formation2[\"Condition\"] == condition_input:\n",
    "        for match in input_mol.GetSubstructMatches(start_mol):\n",
    "            edit_mol = Chem.EditableMol(input_mol)\n",
    "            _, carbonyl_idx, _ = match  # Match indices: start C, C=O, end C\n",
    "          \n",
    "            edit_mol.ReplaceAtom(carbonyl_idx, Chem.Atom(7))\n",
    "            \n",
    "            modified_mol = edit_mol.GetMol()\n",
    "            \n",
    "            Chem.SanitizeMol(modified_mol)\n",
    "            \n",
    "            final_mol = Chem.MolToSmiles(modified_mol, isomericSmiles=True)\n",
    "            molecule = Chem.MolFromSmiles(final_mol)\n",
    "            \n",
    "            return molecule \n",
    "            \n",
    "    return \"No suitable reaction found for the given start material and condition.\"\n",
    "\n",
    "# Example usage:\n",
    "start_input_smiles = \"CCC(=O)CCCCC\"\n",
    "condition_input = \"4<pH<6\"\n",
    "Imine_Formation2_function (start_input_smiles , condition_input)\n",
    "\n",
    "\n",
    "#molecule = Chem.MolFromSmiles(start_input_smiles)\n",
    "#Draw.MolToImage(molecule)"
   ]
  },
  {
   "cell_type": "code",
   "execution_count": 27,
   "id": "1be85710-29ed-44f9-8989-fecb9fa92f82",
   "metadata": {},
   "outputs": [
    {
     "data": {
      "text/plain": [
       "'No suitable reaction found for the given start material and condition.'"
      ]
     },
     "execution_count": 27,
     "metadata": {},
     "output_type": "execute_result"
    }
   ],
   "source": [
    "from rdkit import Chem\n",
    "from rdkit.Chem import AllChem\n",
    "from rdkit.Chem import Draw\n",
    "\n",
    "#PROBLEEEEEEMEEEE\n",
    "\n",
    "def Cyclic_Acetal1_function(start1_input_smiles, star2_input_smiles, condition_input):\n",
    "\n",
    "### Reaction details and patterns to match \n",
    "    \n",
    "    Cyclic_Acetal_Formation1= { \"Name\":\"Formation of cyclic acetal from diols addition with 2 carbons \",\n",
    "                           \"Start\": \"CC(=O)C\" ,\n",
    "                           \"Start2\":\"OCCO\",\n",
    "                           \"Condition\" : \"Acid\",  \n",
    "                           \"Finish\":\"C1(C)(C)OCCO1\"}\n",
    "\n",
    "\n",
    "    input_mol1 = Chem.MolFromSmiles(start1_input_smiles)\n",
    "    input_mol1 = Chem.MolFromSmiles(start2_input_smiles)\n",
    "    \n",
    "    start_mol1 = Chem.MolFromSmiles(Cyclic_Acetal_Formation1[\"Start\"])\n",
    "    start_mol2 = Chem.MolFromSmiles(Cyclic_Acetal_Formation1[\"Start2\"])\n",
    "    \n",
    "    if input_mol1.HasSubstructMatch(start_mol1) and input_mol2.HasSubstructMatch(start_mol2):\n",
    "        \n",
    "        product_mol = Chem.MolFromSmiles(Cyclic_Acetal_Formation[\"Finish\"])\n",
    "        return Chem.MolFromSmiles(product_mol)\n",
    "\n",
    "    return \"No suitable reaction found for the given start material and condition.\"\n",
    "\n",
    "\n",
    "# Example usage:\n",
    "start1_input_smiles = \"CCCC(=O)C\"\n",
    "start2_input_smiles = \"OCCO\"\n",
    "condition_input = \"Acid\"\n",
    "Cyclic_Acetal1_function (start1_input_smiles ,start2_input_smiles, condition_input)\n"
   ]
  },
  {
   "cell_type": "code",
   "execution_count": 27,
   "id": "5540f38a-2839-4336-974c-52c0520734cc",
   "metadata": {},
   "outputs": [
    {
     "data": {
      "image/png": "[encoded data removed]",
      "text/plain": [
       "<rdkit.Chem.rdchem.Mol at 0x115b1e6c0>"
      ]
     },
     "execution_count": 27,
     "metadata": {},
     "output_type": "execute_result"
    }
   ],
   "source": [
    "from rdkit import Chem\n",
    "from rdkit.Chem import AllChem\n",
    "\n",
    "def OxineFormation_function(start_input_smiles, start2_input_smiles):\n",
    "    oxine_formation = {\n",
    "        \"Name\": \"Addition of nucleophilic nitrogen to form an oxine\",\n",
    "        \"Start\": \"C(=O)\",  \n",
    "        \"Start2\": \"NO\",\n",
    "        \"Finish\": \"C(=NO)\" \n",
    "    }\n",
    "\n",
    "    molecule1 = Chem.MolFromSmiles(start_input_smiles)\n",
    "    molecule2 = Chem.MolFromSmiles(start2_input_smiles)\n",
    "    \n",
    "    pattern1 = Chem.MolFromSmarts(oxine_formation[\"Start\"])  \n",
    "    nitroso_pattern = Chem.MolFromSmarts(oxine_formation[\"Start2\"]) \n",
    "    \n",
    "    if molecule1.HasSubstructMatch(pattern1) and molecule2.HasSubstructMatch(nitroso_pattern):\n",
    "        modified_smiles = start_input_smiles.replace(\"C(=O)\", \"C(=NO)\")\n",
    "        final_mol = Chem.MolFromSmiles(modified_smiles)\n",
    "        \n",
    "        return final_mol\n",
    "\n",
    "    return \"No suitable reaction found for the given start materials.\"\n",
    "\n",
    "# Example usage:\n",
    "#start_smiles1 = \"C1CCCC(=O)C1\"  # Example cyclic molecule containing a ketone group\n",
    "start_smiles1 = \"c1C(=O)cCc1\"\n",
    "start_smiles2 = \"NO\"      # Simple representation of a nucleophilic nitrogen\n",
    "OxineFormation_function(start_smiles1, start_smiles2)\n",
    "\n"
   ]
  },
  {
   "cell_type": "code",
   "execution_count": 4,
   "id": "77ee4083-22d6-4264-9242-4d0227ff32b8",
   "metadata": {},
   "outputs": [
    {
     "ename": "AssertionError",
     "evalue": "",
     "output_type": "error",
     "traceback": [
      "\u001b[0;31m---------------------------------------------------------------------------\u001b[0m",
      "\u001b[0;31mAssertionError\u001b[0m                            Traceback (most recent call last)",
      "Cell \u001b[0;32mIn[4], line 32\u001b[0m\n\u001b[1;32m     27\u001b[0m m \u001b[38;5;241m=\u001b[39m WolfKishner_function(start_smiles, condition)\n\u001b[1;32m     30\u001b[0m msmile \u001b[38;5;241m=\u001b[39m Chem\u001b[38;5;241m.\u001b[39mMolToSmiles(m) \u001b[38;5;241m+\u001b[39m \u001b[38;5;124m'\u001b[39m\u001b[38;5;124m\"\u001b[39m\u001b[38;5;124m'\u001b[39m\n\u001b[0;32m---> 32\u001b[0m \u001b[38;5;28;01massert\u001b[39;00m msmile \u001b[38;5;241m==\u001b[39m \u001b[38;5;124m'\u001b[39m\u001b[38;5;124mCCCCCCC\u001b[39m\u001b[38;5;124m'\u001b[39m\n",
      "\u001b[0;31mAssertionError\u001b[0m: "
     ]
    }
   ],
   "source": [
    "from rdkit import Chem\n",
    "from rdkit.Chem import AllChem\n",
    "\n",
    "def WolfKishner_function(start_input_smiles,condition_input):\n",
    "    \n",
    "    wolf_kishner_huang_reduction = { \"Finish\" : \"CCC\",\n",
    "                                    \"Condition\" : \"NH2NH2, KOH, 180°C\",\n",
    "                                    \"Start\" : \"CC(=O)C\", \n",
    "                                    \"Name\" : \"Wolf-Kishner-Huang Reduction\" }\n",
    "    molecule = Chem.MolFromSmiles(start_input_smiles)\n",
    "\n",
    "# recognize the pattern to modify \n",
    "    \n",
    "    pattern = Chem.MolFromSmarts(wolf_kishner_huang_reduction[\"Start\"])\n",
    "    if molecule.HasSubstructMatch(pattern):\n",
    "# The Wolf Kishner Reduction of a Carbonyl \n",
    "        finish_smiles = start_input_smiles.replace(\"C(=O)\", \"C\")\n",
    "        final_mol = Chem.MolFromSmiles(finish_smiles)\n",
    "    \n",
    "        return final_mol\n",
    "            \n",
    "    return \"No suitable reaction found for the given start material and condition.\"\n",
    "\n",
    "# Example Usage \n",
    "start_smiles = \"CCC(=O)CC(=O)CC\"\n",
    "condition = \"NH2NH2, KOH, 180°C\"\n",
    "m = WolfKishner_function(start_smiles, condition)\n",
    "\n",
    "\n",
    "msmile = Chem.MolToSmiles(m)\n",
    "\n",
    "assert msmile == 'CCCCCCC'"
   ]
  },
  {
   "cell_type": "code",
   "execution_count": null,
   "id": "a9211b37-9d2e-4199-94d0-d9e93ba67bf3",
   "metadata": {},
   "outputs": [],
   "source": [
    "assert WolfKishner_function('') == 'no reaction found'"
   ]
  },
  {
   "cell_type": "code",
   "execution_count": 38,
   "id": "27ef193c-07d2-455f-ac7c-9ffb5b5ec007",
   "metadata": {},
   "outputs": [
    {
     "data": {
      "image/png": "[encoded data removed]",
      "text/plain": [
       "<rdkit.Chem.rdchem.Mol at 0x115bb6a40>"
      ]
     },
     "execution_count": 38,
     "metadata": {},
     "output_type": "execute_result"
    }
   ],
   "source": [
    "from rdkit import Chem\n",
    "from rdkit.Chem import AllChem\n",
    "\n",
    "def Hydration_function(input_smiles, condition_input):\n",
    "    hydration = {\n",
    "        \"Name\": \"Hydration of Carbonyls\",\n",
    "        \"Start\": \"C=O\",     # Target the carbonyl group directly\n",
    "        \"Condition\": \"H2O and acid\",\n",
    "        \"Finish\": \"[O-][H+]\"   # Represent the hydrated form\n",
    "    }\n",
    "\n",
    "   \n",
    "    molecule = Chem.MolFromSmiles(input_smiles)\n",
    "\n",
    "    \n",
    "    pattern = Chem.MolFromSmarts(hydration[\"Start\"])  \n",
    "    if molecule.HasSubstructMatch(pattern):\n",
    "     \n",
    "        finish_mol = Chem.MolFromSmiles(\"C(O)(O)\")\n",
    "        modified_mols = AllChem.ReplaceSubstructs(molecule, pattern, finish_mol, replaceAll=True)\n",
    "        final_mol = Chem.MolToSmiles(modified_mols[0], isomericSmiles=True)\n",
    "        molecule = Chem.MolFromSmiles(final_mol)\n",
    "        \n",
    "        return molecule \n",
    "\n",
    "    return \"No suitable reaction found for the given start material and conditions.\"\n",
    "\n",
    "# Example usage:\n",
    "input_smiles = \"c1cc(=O)cc1\"  \n",
    "#input_smiles = \"C1CCC(=O)CC1\"\n",
    "condition = \"H2O and acid\"\n",
    "Hydration_function(input_smiles, condition)\n",
    "\n"
   ]
  },
  {
   "cell_type": "code",
   "execution_count": null,
   "id": "b1447482-6c49-452e-aed4-fb7276b77945",
   "metadata": {},
   "outputs": [],
   "source": []
  },
  {
   "cell_type": "code",
   "execution_count": null,
   "id": "892171a4-36e6-406d-844a-7d191c282cb2",
   "metadata": {},
   "outputs": [],
   "source": []
  }
 ],
 "metadata": {
  "kernelspec": {
   "display_name": "Python 3 (ipykernel)",
   "language": "python",
   "name": "python3"
  },
  "language_info": {
   "codemirror_mode": {
    "name": "ipython",
    "version": 3
   },
   "file_extension": ".py",
   "mimetype": "text/x-python",
   "name": "python",
   "nbconvert_exporter": "python",
   "pygments_lexer": "ipython3",
   "version": "3.10.13"
  }
 },
 "nbformat": 4,
 "nbformat_minor": 5
}
