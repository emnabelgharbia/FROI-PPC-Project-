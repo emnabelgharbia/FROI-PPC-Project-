{
 "cells": [
  {
   "cell_type": "code",
   "execution_count": 2,
   "id": "79f898ca-d2d2-4a8a-8de0-b62c7b4bdd7a",
   "metadata": {},
   "outputs": [
    {
     "data": {
      "image/png": "[encoded data removed]",
      "text/plain": [
       "<rdkit.Chem.rdchem.Mol at 0x10bed5f50>"
      ]
     },
     "execution_count": 2,
     "metadata": {},
     "output_type": "execute_result"
    }
   ],
   "source": [
    "from rdkit import Chem \n",
    "from rdkit.Chem import PandasTools\n",
    "from rdkit.Chem.Draw import IPythonConsole \n",
    "import pandas as pd \n",
    "from pathlib import Path \n",
    "import os \n",
    "\n",
    "\n",
    "Chem.MolFromSmiles(\"CCC(=O)CC(=O)CC\")\n",
    "\n",
    "#Chem.MolFromSmarts(\"CC1(OCCO)CO1\")"
   ]
  },
  {
   "cell_type": "code",
   "execution_count": null,
   "id": "4222f3c2-8f05-49bc-9799-99376cddf10c",
   "metadata": {},
   "outputs": [],
   "source": []
  },
  {
   "cell_type": "code",
   "execution_count": null,
   "id": "43a9aedf-2ed1-47ef-bb61-a7314bdd174d",
   "metadata": {},
   "outputs": [],
   "source": []
  },
  {
   "cell_type": "code",
   "execution_count": null,
   "id": "4fb4aca3-fca6-4092-9fd2-dba33ea9d210",
   "metadata": {},
   "outputs": [],
   "source": []
  }
 ],
 "metadata": {
  "kernelspec": {
   "display_name": "Python 3 (ipykernel)",
   "language": "python",
   "name": "python3"
  },
  "language_info": {
   "codemirror_mode": {
    "name": "ipython",
    "version": 3
   },
   "file_extension": ".py",
   "mimetype": "text/x-python",
   "name": "python",
   "nbconvert_exporter": "python",
   "pygments_lexer": "ipython3",
   "version": "3.10.13"
  }
 },
 "nbformat": 4,
 "nbformat_minor": 5
}
